{
 "cells": [
  {
   "cell_type": "markdown",
   "id": "9aa0bb38",
   "metadata": {},
   "source": [
    "# COVID-19 Data Analysis  \n",
    "\n",
    "**Dataset sources:**  \n",
    "- full_grouped.csv  \n",
    "- usa_county_wise.csv \n",
    "- worldometer_data.csv  \n",
    "\n",
    "**Link:**  https://www.kaggle.com/datasets/imdevskp/corona-virus-report\n",
    "\n",
    "**Problem Statement:** \n",
    "\n",
    "The COVID-19 pandemic has had a profound global impact, with varying effects across countries and over time. To inform public health decisions, it is critical to analyze country-level and global data for patterns, anomalies, and correlations."
   ]
  },
  {
   "cell_type": "code",
   "execution_count": 37,
   "id": "35ad5a86",
   "metadata": {},
   "outputs": [],
   "source": [
    "import numpy as np\n",
    "import pandas as pd\n",
    "import matplotlib.pyplot as plt\n",
    "import seaborn as sns\n",
    "import plotly.express as px\n"
   ]
  },
  {
   "cell_type": "markdown",
   "id": "ec6f071b",
   "metadata": {},
   "source": [
    "# Data Quality Checking & Wrangling / Cleaning:\n"
   ]
  },
  {
   "cell_type": "markdown",
   "id": "1edcecbd",
   "metadata": {},
   "source": [
    "**Schema Preview**  \n"
   ]
  },
  {
   "cell_type": "code",
   "execution_count": 38,
   "id": "56c0f665",
   "metadata": {},
   "outputs": [
    {
     "data": {
      "text/html": [
       "<div>\n",
       "<style scoped>\n",
       "    .dataframe tbody tr th:only-of-type {\n",
       "        vertical-align: middle;\n",
       "    }\n",
       "\n",
       "    .dataframe tbody tr th {\n",
       "        vertical-align: top;\n",
       "    }\n",
       "\n",
       "    .dataframe thead th {\n",
       "        text-align: right;\n",
       "    }\n",
       "</style>\n",
       "<table border=\"1\" class=\"dataframe\">\n",
       "  <thead>\n",
       "    <tr style=\"text-align: right;\">\n",
       "      <th></th>\n",
       "      <th>Date</th>\n",
       "      <th>Country/Region</th>\n",
       "      <th>Confirmed</th>\n",
       "      <th>Deaths</th>\n",
       "      <th>Recovered</th>\n",
       "      <th>Active</th>\n",
       "      <th>New cases</th>\n",
       "      <th>New deaths</th>\n",
       "      <th>New recovered</th>\n",
       "      <th>WHO Region</th>\n",
       "    </tr>\n",
       "  </thead>\n",
       "  <tbody>\n",
       "    <tr>\n",
       "      <th>0</th>\n",
       "      <td>2020-01-22</td>\n",
       "      <td>Afghanistan</td>\n",
       "      <td>0</td>\n",
       "      <td>0</td>\n",
       "      <td>0</td>\n",
       "      <td>0</td>\n",
       "      <td>0</td>\n",
       "      <td>0</td>\n",
       "      <td>0</td>\n",
       "      <td>Eastern Mediterranean</td>\n",
       "    </tr>\n",
       "    <tr>\n",
       "      <th>1</th>\n",
       "      <td>2020-01-22</td>\n",
       "      <td>Albania</td>\n",
       "      <td>0</td>\n",
       "      <td>0</td>\n",
       "      <td>0</td>\n",
       "      <td>0</td>\n",
       "      <td>0</td>\n",
       "      <td>0</td>\n",
       "      <td>0</td>\n",
       "      <td>Europe</td>\n",
       "    </tr>\n",
       "    <tr>\n",
       "      <th>2</th>\n",
       "      <td>2020-01-22</td>\n",
       "      <td>Algeria</td>\n",
       "      <td>0</td>\n",
       "      <td>0</td>\n",
       "      <td>0</td>\n",
       "      <td>0</td>\n",
       "      <td>0</td>\n",
       "      <td>0</td>\n",
       "      <td>0</td>\n",
       "      <td>Africa</td>\n",
       "    </tr>\n",
       "    <tr>\n",
       "      <th>3</th>\n",
       "      <td>2020-01-22</td>\n",
       "      <td>Andorra</td>\n",
       "      <td>0</td>\n",
       "      <td>0</td>\n",
       "      <td>0</td>\n",
       "      <td>0</td>\n",
       "      <td>0</td>\n",
       "      <td>0</td>\n",
       "      <td>0</td>\n",
       "      <td>Europe</td>\n",
       "    </tr>\n",
       "    <tr>\n",
       "      <th>4</th>\n",
       "      <td>2020-01-22</td>\n",
       "      <td>Angola</td>\n",
       "      <td>0</td>\n",
       "      <td>0</td>\n",
       "      <td>0</td>\n",
       "      <td>0</td>\n",
       "      <td>0</td>\n",
       "      <td>0</td>\n",
       "      <td>0</td>\n",
       "      <td>Africa</td>\n",
       "    </tr>\n",
       "  </tbody>\n",
       "</table>\n",
       "</div>"
      ],
      "text/plain": [
       "         Date Country/Region  Confirmed  Deaths  Recovered  Active  New cases  \\\n",
       "0  2020-01-22    Afghanistan          0       0          0       0          0   \n",
       "1  2020-01-22        Albania          0       0          0       0          0   \n",
       "2  2020-01-22        Algeria          0       0          0       0          0   \n",
       "3  2020-01-22        Andorra          0       0          0       0          0   \n",
       "4  2020-01-22         Angola          0       0          0       0          0   \n",
       "\n",
       "   New deaths  New recovered             WHO Region  \n",
       "0           0              0  Eastern Mediterranean  \n",
       "1           0              0                 Europe  \n",
       "2           0              0                 Africa  \n",
       "3           0              0                 Europe  \n",
       "4           0              0                 Africa  "
      ]
     },
     "execution_count": 38,
     "metadata": {},
     "output_type": "execute_result"
    }
   ],
   "source": [
    "full_grouped=pd.read_csv(\"full_grouped.csv\")\n",
    "full_grouped.head()"
   ]
  },
  {
   "cell_type": "code",
   "execution_count": 39,
   "id": "f437fc58",
   "metadata": {},
   "outputs": [
    {
     "data": {
      "text/html": [
       "<div>\n",
       "<style scoped>\n",
       "    .dataframe tbody tr th:only-of-type {\n",
       "        vertical-align: middle;\n",
       "    }\n",
       "\n",
       "    .dataframe tbody tr th {\n",
       "        vertical-align: top;\n",
       "    }\n",
       "\n",
       "    .dataframe thead th {\n",
       "        text-align: right;\n",
       "    }\n",
       "</style>\n",
       "<table border=\"1\" class=\"dataframe\">\n",
       "  <thead>\n",
       "    <tr style=\"text-align: right;\">\n",
       "      <th></th>\n",
       "      <th>UID</th>\n",
       "      <th>iso2</th>\n",
       "      <th>iso3</th>\n",
       "      <th>code3</th>\n",
       "      <th>FIPS</th>\n",
       "      <th>Admin2</th>\n",
       "      <th>Province_State</th>\n",
       "      <th>Country_Region</th>\n",
       "      <th>Lat</th>\n",
       "      <th>Long_</th>\n",
       "      <th>Combined_Key</th>\n",
       "      <th>Date</th>\n",
       "      <th>Confirmed</th>\n",
       "      <th>Deaths</th>\n",
       "    </tr>\n",
       "  </thead>\n",
       "  <tbody>\n",
       "    <tr>\n",
       "      <th>0</th>\n",
       "      <td>16</td>\n",
       "      <td>AS</td>\n",
       "      <td>ASM</td>\n",
       "      <td>16</td>\n",
       "      <td>60.0</td>\n",
       "      <td>NaN</td>\n",
       "      <td>American Samoa</td>\n",
       "      <td>US</td>\n",
       "      <td>-14.271000</td>\n",
       "      <td>-170.132000</td>\n",
       "      <td>American Samoa, US</td>\n",
       "      <td>1/22/20</td>\n",
       "      <td>0</td>\n",
       "      <td>0</td>\n",
       "    </tr>\n",
       "    <tr>\n",
       "      <th>1</th>\n",
       "      <td>316</td>\n",
       "      <td>GU</td>\n",
       "      <td>GUM</td>\n",
       "      <td>316</td>\n",
       "      <td>66.0</td>\n",
       "      <td>NaN</td>\n",
       "      <td>Guam</td>\n",
       "      <td>US</td>\n",
       "      <td>13.444300</td>\n",
       "      <td>144.793700</td>\n",
       "      <td>Guam, US</td>\n",
       "      <td>1/22/20</td>\n",
       "      <td>0</td>\n",
       "      <td>0</td>\n",
       "    </tr>\n",
       "    <tr>\n",
       "      <th>2</th>\n",
       "      <td>580</td>\n",
       "      <td>MP</td>\n",
       "      <td>MNP</td>\n",
       "      <td>580</td>\n",
       "      <td>69.0</td>\n",
       "      <td>NaN</td>\n",
       "      <td>Northern Mariana Islands</td>\n",
       "      <td>US</td>\n",
       "      <td>15.097900</td>\n",
       "      <td>145.673900</td>\n",
       "      <td>Northern Mariana Islands, US</td>\n",
       "      <td>1/22/20</td>\n",
       "      <td>0</td>\n",
       "      <td>0</td>\n",
       "    </tr>\n",
       "    <tr>\n",
       "      <th>3</th>\n",
       "      <td>63072001</td>\n",
       "      <td>PR</td>\n",
       "      <td>PRI</td>\n",
       "      <td>630</td>\n",
       "      <td>72001.0</td>\n",
       "      <td>Adjuntas</td>\n",
       "      <td>Puerto Rico</td>\n",
       "      <td>US</td>\n",
       "      <td>18.180117</td>\n",
       "      <td>-66.754367</td>\n",
       "      <td>Adjuntas, Puerto Rico, US</td>\n",
       "      <td>1/22/20</td>\n",
       "      <td>0</td>\n",
       "      <td>0</td>\n",
       "    </tr>\n",
       "    <tr>\n",
       "      <th>4</th>\n",
       "      <td>63072003</td>\n",
       "      <td>PR</td>\n",
       "      <td>PRI</td>\n",
       "      <td>630</td>\n",
       "      <td>72003.0</td>\n",
       "      <td>Aguada</td>\n",
       "      <td>Puerto Rico</td>\n",
       "      <td>US</td>\n",
       "      <td>18.360255</td>\n",
       "      <td>-67.175131</td>\n",
       "      <td>Aguada, Puerto Rico, US</td>\n",
       "      <td>1/22/20</td>\n",
       "      <td>0</td>\n",
       "      <td>0</td>\n",
       "    </tr>\n",
       "  </tbody>\n",
       "</table>\n",
       "</div>"
      ],
      "text/plain": [
       "        UID iso2 iso3  code3     FIPS    Admin2            Province_State  \\\n",
       "0        16   AS  ASM     16     60.0       NaN            American Samoa   \n",
       "1       316   GU  GUM    316     66.0       NaN                      Guam   \n",
       "2       580   MP  MNP    580     69.0       NaN  Northern Mariana Islands   \n",
       "3  63072001   PR  PRI    630  72001.0  Adjuntas               Puerto Rico   \n",
       "4  63072003   PR  PRI    630  72003.0    Aguada               Puerto Rico   \n",
       "\n",
       "  Country_Region        Lat       Long_                  Combined_Key  \\\n",
       "0             US -14.271000 -170.132000            American Samoa, US   \n",
       "1             US  13.444300  144.793700                      Guam, US   \n",
       "2             US  15.097900  145.673900  Northern Mariana Islands, US   \n",
       "3             US  18.180117  -66.754367     Adjuntas, Puerto Rico, US   \n",
       "4             US  18.360255  -67.175131       Aguada, Puerto Rico, US   \n",
       "\n",
       "      Date  Confirmed  Deaths  \n",
       "0  1/22/20          0       0  \n",
       "1  1/22/20          0       0  \n",
       "2  1/22/20          0       0  \n",
       "3  1/22/20          0       0  \n",
       "4  1/22/20          0       0  "
      ]
     },
     "execution_count": 39,
     "metadata": {},
     "output_type": "execute_result"
    }
   ],
   "source": [
    "usa_county_wise = pd.read_csv(\"usa_county_wise.csv\")\n",
    "usa_county_wise.head()"
   ]
  },
  {
   "cell_type": "code",
   "execution_count": 40,
   "id": "12899bc6",
   "metadata": {},
   "outputs": [
    {
     "data": {
      "text/html": [
       "<div>\n",
       "<style scoped>\n",
       "    .dataframe tbody tr th:only-of-type {\n",
       "        vertical-align: middle;\n",
       "    }\n",
       "\n",
       "    .dataframe tbody tr th {\n",
       "        vertical-align: top;\n",
       "    }\n",
       "\n",
       "    .dataframe thead th {\n",
       "        text-align: right;\n",
       "    }\n",
       "</style>\n",
       "<table border=\"1\" class=\"dataframe\">\n",
       "  <thead>\n",
       "    <tr style=\"text-align: right;\">\n",
       "      <th></th>\n",
       "      <th>Country/Region</th>\n",
       "      <th>Continent</th>\n",
       "      <th>Population</th>\n",
       "      <th>TotalCases</th>\n",
       "      <th>NewCases</th>\n",
       "      <th>TotalDeaths</th>\n",
       "      <th>NewDeaths</th>\n",
       "      <th>TotalRecovered</th>\n",
       "      <th>NewRecovered</th>\n",
       "      <th>ActiveCases</th>\n",
       "      <th>Serious,Critical</th>\n",
       "      <th>Tot Cases/1M pop</th>\n",
       "      <th>Deaths/1M pop</th>\n",
       "      <th>TotalTests</th>\n",
       "      <th>Tests/1M pop</th>\n",
       "      <th>WHO Region</th>\n",
       "    </tr>\n",
       "  </thead>\n",
       "  <tbody>\n",
       "    <tr>\n",
       "      <th>0</th>\n",
       "      <td>USA</td>\n",
       "      <td>North America</td>\n",
       "      <td>3.311981e+08</td>\n",
       "      <td>5032179</td>\n",
       "      <td>NaN</td>\n",
       "      <td>162804.0</td>\n",
       "      <td>NaN</td>\n",
       "      <td>2576668.0</td>\n",
       "      <td>NaN</td>\n",
       "      <td>2292707.0</td>\n",
       "      <td>18296.0</td>\n",
       "      <td>15194.0</td>\n",
       "      <td>492.0</td>\n",
       "      <td>63139605.0</td>\n",
       "      <td>190640.0</td>\n",
       "      <td>Americas</td>\n",
       "    </tr>\n",
       "    <tr>\n",
       "      <th>1</th>\n",
       "      <td>Brazil</td>\n",
       "      <td>South America</td>\n",
       "      <td>2.127107e+08</td>\n",
       "      <td>2917562</td>\n",
       "      <td>NaN</td>\n",
       "      <td>98644.0</td>\n",
       "      <td>NaN</td>\n",
       "      <td>2047660.0</td>\n",
       "      <td>NaN</td>\n",
       "      <td>771258.0</td>\n",
       "      <td>8318.0</td>\n",
       "      <td>13716.0</td>\n",
       "      <td>464.0</td>\n",
       "      <td>13206188.0</td>\n",
       "      <td>62085.0</td>\n",
       "      <td>Americas</td>\n",
       "    </tr>\n",
       "    <tr>\n",
       "      <th>2</th>\n",
       "      <td>India</td>\n",
       "      <td>Asia</td>\n",
       "      <td>1.381345e+09</td>\n",
       "      <td>2025409</td>\n",
       "      <td>NaN</td>\n",
       "      <td>41638.0</td>\n",
       "      <td>NaN</td>\n",
       "      <td>1377384.0</td>\n",
       "      <td>NaN</td>\n",
       "      <td>606387.0</td>\n",
       "      <td>8944.0</td>\n",
       "      <td>1466.0</td>\n",
       "      <td>30.0</td>\n",
       "      <td>22149351.0</td>\n",
       "      <td>16035.0</td>\n",
       "      <td>South-EastAsia</td>\n",
       "    </tr>\n",
       "    <tr>\n",
       "      <th>3</th>\n",
       "      <td>Russia</td>\n",
       "      <td>Europe</td>\n",
       "      <td>1.459409e+08</td>\n",
       "      <td>871894</td>\n",
       "      <td>NaN</td>\n",
       "      <td>14606.0</td>\n",
       "      <td>NaN</td>\n",
       "      <td>676357.0</td>\n",
       "      <td>NaN</td>\n",
       "      <td>180931.0</td>\n",
       "      <td>2300.0</td>\n",
       "      <td>5974.0</td>\n",
       "      <td>100.0</td>\n",
       "      <td>29716907.0</td>\n",
       "      <td>203623.0</td>\n",
       "      <td>Europe</td>\n",
       "    </tr>\n",
       "    <tr>\n",
       "      <th>4</th>\n",
       "      <td>South Africa</td>\n",
       "      <td>Africa</td>\n",
       "      <td>5.938157e+07</td>\n",
       "      <td>538184</td>\n",
       "      <td>NaN</td>\n",
       "      <td>9604.0</td>\n",
       "      <td>NaN</td>\n",
       "      <td>387316.0</td>\n",
       "      <td>NaN</td>\n",
       "      <td>141264.0</td>\n",
       "      <td>539.0</td>\n",
       "      <td>9063.0</td>\n",
       "      <td>162.0</td>\n",
       "      <td>3149807.0</td>\n",
       "      <td>53044.0</td>\n",
       "      <td>Africa</td>\n",
       "    </tr>\n",
       "  </tbody>\n",
       "</table>\n",
       "</div>"
      ],
      "text/plain": [
       "  Country/Region      Continent    Population  TotalCases  NewCases  \\\n",
       "0            USA  North America  3.311981e+08     5032179       NaN   \n",
       "1         Brazil  South America  2.127107e+08     2917562       NaN   \n",
       "2          India           Asia  1.381345e+09     2025409       NaN   \n",
       "3         Russia         Europe  1.459409e+08      871894       NaN   \n",
       "4   South Africa         Africa  5.938157e+07      538184       NaN   \n",
       "\n",
       "   TotalDeaths  NewDeaths  TotalRecovered  NewRecovered  ActiveCases  \\\n",
       "0     162804.0        NaN       2576668.0           NaN    2292707.0   \n",
       "1      98644.0        NaN       2047660.0           NaN     771258.0   \n",
       "2      41638.0        NaN       1377384.0           NaN     606387.0   \n",
       "3      14606.0        NaN        676357.0           NaN     180931.0   \n",
       "4       9604.0        NaN        387316.0           NaN     141264.0   \n",
       "\n",
       "   Serious,Critical  Tot Cases/1M pop  Deaths/1M pop  TotalTests  \\\n",
       "0           18296.0           15194.0          492.0  63139605.0   \n",
       "1            8318.0           13716.0          464.0  13206188.0   \n",
       "2            8944.0            1466.0           30.0  22149351.0   \n",
       "3            2300.0            5974.0          100.0  29716907.0   \n",
       "4             539.0            9063.0          162.0   3149807.0   \n",
       "\n",
       "   Tests/1M pop      WHO Region  \n",
       "0      190640.0        Americas  \n",
       "1       62085.0        Americas  \n",
       "2       16035.0  South-EastAsia  \n",
       "3      203623.0          Europe  \n",
       "4       53044.0          Africa  "
      ]
     },
     "execution_count": 40,
     "metadata": {},
     "output_type": "execute_result"
    }
   ],
   "source": [
    "worldometer_data = pd.read_csv(\"worldometer_data.csv\")\n",
    "worldometer_data.head()\n"
   ]
  },
  {
   "cell_type": "markdown",
   "id": "389042ed",
   "metadata": {},
   "source": [
    " **Missing Values, Duplicates, Outliers, Type Checks, Sanity Checks**"
   ]
  },
  {
   "cell_type": "code",
   "execution_count": 41,
   "id": "5d3aab93",
   "metadata": {},
   "outputs": [
    {
     "data": {
      "text/plain": [
       "np.int64(0)"
      ]
     },
     "execution_count": 41,
     "metadata": {},
     "output_type": "execute_result"
    }
   ],
   "source": [
    "full_grouped.duplicated().sum()"
   ]
  },
  {
   "cell_type": "code",
   "execution_count": 42,
   "id": "ac4fa90c",
   "metadata": {},
   "outputs": [
    {
     "name": "stdout",
     "output_type": "stream",
     "text": [
      "<class 'pandas.core.frame.DataFrame'>\n",
      "RangeIndex: 35156 entries, 0 to 35155\n",
      "Data columns (total 10 columns):\n",
      " #   Column          Non-Null Count  Dtype \n",
      "---  ------          --------------  ----- \n",
      " 0   Date            35156 non-null  object\n",
      " 1   Country/Region  35156 non-null  object\n",
      " 2   Confirmed       35156 non-null  int64 \n",
      " 3   Deaths          35156 non-null  int64 \n",
      " 4   Recovered       35156 non-null  int64 \n",
      " 5   Active          35156 non-null  int64 \n",
      " 6   New cases       35156 non-null  int64 \n",
      " 7   New deaths      35156 non-null  int64 \n",
      " 8   New recovered   35156 non-null  int64 \n",
      " 9   WHO Region      35156 non-null  object\n",
      "dtypes: int64(7), object(3)\n",
      "memory usage: 2.7+ MB\n"
     ]
    },
    {
     "data": {
      "text/html": [
       "<div>\n",
       "<style scoped>\n",
       "    .dataframe tbody tr th:only-of-type {\n",
       "        vertical-align: middle;\n",
       "    }\n",
       "\n",
       "    .dataframe tbody tr th {\n",
       "        vertical-align: top;\n",
       "    }\n",
       "\n",
       "    .dataframe thead th {\n",
       "        text-align: right;\n",
       "    }\n",
       "</style>\n",
       "<table border=\"1\" class=\"dataframe\">\n",
       "  <thead>\n",
       "    <tr style=\"text-align: right;\">\n",
       "      <th></th>\n",
       "      <th>Confirmed</th>\n",
       "      <th>Deaths</th>\n",
       "      <th>Recovered</th>\n",
       "      <th>Active</th>\n",
       "      <th>New cases</th>\n",
       "      <th>New deaths</th>\n",
       "      <th>New recovered</th>\n",
       "    </tr>\n",
       "  </thead>\n",
       "  <tbody>\n",
       "    <tr>\n",
       "      <th>count</th>\n",
       "      <td>3.515600e+04</td>\n",
       "      <td>35156.000000</td>\n",
       "      <td>3.515600e+04</td>\n",
       "      <td>3.515600e+04</td>\n",
       "      <td>35156.00000</td>\n",
       "      <td>35156.000000</td>\n",
       "      <td>35156.000000</td>\n",
       "    </tr>\n",
       "    <tr>\n",
       "      <th>mean</th>\n",
       "      <td>2.356663e+04</td>\n",
       "      <td>1234.068239</td>\n",
       "      <td>1.104813e+04</td>\n",
       "      <td>1.128443e+04</td>\n",
       "      <td>469.36375</td>\n",
       "      <td>18.603339</td>\n",
       "      <td>269.315593</td>\n",
       "    </tr>\n",
       "    <tr>\n",
       "      <th>std</th>\n",
       "      <td>1.499818e+05</td>\n",
       "      <td>7437.238354</td>\n",
       "      <td>6.454640e+04</td>\n",
       "      <td>8.997149e+04</td>\n",
       "      <td>3005.86754</td>\n",
       "      <td>115.706351</td>\n",
       "      <td>2068.063852</td>\n",
       "    </tr>\n",
       "    <tr>\n",
       "      <th>min</th>\n",
       "      <td>0.000000e+00</td>\n",
       "      <td>0.000000</td>\n",
       "      <td>0.000000e+00</td>\n",
       "      <td>-2.000000e+00</td>\n",
       "      <td>0.00000</td>\n",
       "      <td>-1918.000000</td>\n",
       "      <td>-16298.000000</td>\n",
       "    </tr>\n",
       "    <tr>\n",
       "      <th>25%</th>\n",
       "      <td>1.000000e+00</td>\n",
       "      <td>0.000000</td>\n",
       "      <td>0.000000e+00</td>\n",
       "      <td>0.000000e+00</td>\n",
       "      <td>0.00000</td>\n",
       "      <td>0.000000</td>\n",
       "      <td>0.000000</td>\n",
       "    </tr>\n",
       "    <tr>\n",
       "      <th>50%</th>\n",
       "      <td>2.500000e+02</td>\n",
       "      <td>4.000000</td>\n",
       "      <td>3.300000e+01</td>\n",
       "      <td>8.500000e+01</td>\n",
       "      <td>2.00000</td>\n",
       "      <td>0.000000</td>\n",
       "      <td>0.000000</td>\n",
       "    </tr>\n",
       "    <tr>\n",
       "      <th>75%</th>\n",
       "      <td>3.640250e+03</td>\n",
       "      <td>78.250000</td>\n",
       "      <td>1.286250e+03</td>\n",
       "      <td>1.454000e+03</td>\n",
       "      <td>75.00000</td>\n",
       "      <td>1.000000</td>\n",
       "      <td>20.000000</td>\n",
       "    </tr>\n",
       "    <tr>\n",
       "      <th>max</th>\n",
       "      <td>4.290259e+06</td>\n",
       "      <td>148011.000000</td>\n",
       "      <td>1.846641e+06</td>\n",
       "      <td>2.816444e+06</td>\n",
       "      <td>77255.00000</td>\n",
       "      <td>3887.000000</td>\n",
       "      <td>140050.000000</td>\n",
       "    </tr>\n",
       "  </tbody>\n",
       "</table>\n",
       "</div>"
      ],
      "text/plain": [
       "          Confirmed         Deaths     Recovered        Active    New cases  \\\n",
       "count  3.515600e+04   35156.000000  3.515600e+04  3.515600e+04  35156.00000   \n",
       "mean   2.356663e+04    1234.068239  1.104813e+04  1.128443e+04    469.36375   \n",
       "std    1.499818e+05    7437.238354  6.454640e+04  8.997149e+04   3005.86754   \n",
       "min    0.000000e+00       0.000000  0.000000e+00 -2.000000e+00      0.00000   \n",
       "25%    1.000000e+00       0.000000  0.000000e+00  0.000000e+00      0.00000   \n",
       "50%    2.500000e+02       4.000000  3.300000e+01  8.500000e+01      2.00000   \n",
       "75%    3.640250e+03      78.250000  1.286250e+03  1.454000e+03     75.00000   \n",
       "max    4.290259e+06  148011.000000  1.846641e+06  2.816444e+06  77255.00000   \n",
       "\n",
       "         New deaths  New recovered  \n",
       "count  35156.000000   35156.000000  \n",
       "mean      18.603339     269.315593  \n",
       "std      115.706351    2068.063852  \n",
       "min    -1918.000000  -16298.000000  \n",
       "25%        0.000000       0.000000  \n",
       "50%        0.000000       0.000000  \n",
       "75%        1.000000      20.000000  \n",
       "max     3887.000000  140050.000000  "
      ]
     },
     "execution_count": 42,
     "metadata": {},
     "output_type": "execute_result"
    }
   ],
   "source": [
    "full_grouped.info()\n",
    "full_grouped.describe()"
   ]
  },
  {
   "cell_type": "code",
   "execution_count": 43,
   "id": "92505013",
   "metadata": {},
   "outputs": [
    {
     "name": "stdout",
     "output_type": "stream",
     "text": [
      "             Date    Country/Region  Confirmed  Deaths  Recovered  Active  \\\n",
      "6256   2020-02-24             Italy        229       7          1     221   \n",
      "8757   2020-03-08       South Korea       7314      50        118    7146   \n",
      "9540   2020-03-13           Andorra          1       0          0       1   \n",
      "9963   2020-03-15             Egypt        110       2         21      87   \n",
      "10176  2020-03-16           Iceland        180       0          0     180   \n",
      "...           ...               ...        ...     ...        ...     ...   \n",
      "33856  2020-07-21           Austria      19827     710      17716    1401   \n",
      "33908  2020-07-21            France     214607   30168      79861  104578   \n",
      "34021  2020-07-21            Uganda       1072       0        958     114   \n",
      "34134  2020-07-22     Liechtenstein         86       1         81       4   \n",
      "34164  2020-07-22  Papua New Guinea         30       0          8      22   \n",
      "\n",
      "       New cases  New deaths  New recovered             WHO Region  \n",
      "6256          74           4             -1                 Europe  \n",
      "8757         273           6            -17        Western Pacific  \n",
      "9540           0           0             -1                 Europe  \n",
      "9963           1           0             -6  Eastern Mediterranean  \n",
      "10176          9          -5             -8                 Europe  \n",
      "...          ...         ...            ...                    ...  \n",
      "33856         84          -1             57                 Europe  \n",
      "33908        584         -12            193                 Europe  \n",
      "34021          3           0           -113                 Africa  \n",
      "34134          0           0             -2                 Europe  \n",
      "34164          3          -1              0        Western Pacific  \n",
      "\n",
      "[115 rows x 10 columns]\n"
     ]
    }
   ],
   "source": [
    "neg_rows = full_grouped[(full_grouped.select_dtypes(include='number') < 0).any(axis=1)]\n",
    "print(neg_rows)\n"
   ]
  },
  {
   "cell_type": "code",
   "execution_count": 44,
   "id": "84c35543",
   "metadata": {},
   "outputs": [
    {
     "name": "stdout",
     "output_type": "stream",
     "text": [
      "Confirmed         0\n",
      "Deaths            0\n",
      "Recovered         0\n",
      "Active            2\n",
      "New cases         0\n",
      "New deaths       38\n",
      "New recovered    77\n",
      "dtype: int64\n"
     ]
    }
   ],
   "source": [
    "neg_counts = (full_grouped.select_dtypes(include='number') < 0).sum()\n",
    "print(neg_counts)"
   ]
  },
  {
   "cell_type": "markdown",
   "id": "c3f414de",
   "metadata": {},
   "source": [
    "**Negative rows less than 0.3% of entire dataset**\n",
    "*So I will remove them*"
   ]
  },
  {
   "cell_type": "code",
   "execution_count": 45,
   "id": "56317408",
   "metadata": {},
   "outputs": [
    {
     "data": {
      "text/html": [
       "<div>\n",
       "<style scoped>\n",
       "    .dataframe tbody tr th:only-of-type {\n",
       "        vertical-align: middle;\n",
       "    }\n",
       "\n",
       "    .dataframe tbody tr th {\n",
       "        vertical-align: top;\n",
       "    }\n",
       "\n",
       "    .dataframe thead th {\n",
       "        text-align: right;\n",
       "    }\n",
       "</style>\n",
       "<table border=\"1\" class=\"dataframe\">\n",
       "  <thead>\n",
       "    <tr style=\"text-align: right;\">\n",
       "      <th></th>\n",
       "      <th>Confirmed</th>\n",
       "      <th>Deaths</th>\n",
       "      <th>Recovered</th>\n",
       "      <th>Active</th>\n",
       "      <th>New cases</th>\n",
       "      <th>New deaths</th>\n",
       "      <th>New recovered</th>\n",
       "    </tr>\n",
       "  </thead>\n",
       "  <tbody>\n",
       "    <tr>\n",
       "      <th>count</th>\n",
       "      <td>3.504100e+04</td>\n",
       "      <td>35041.000000</td>\n",
       "      <td>3.504100e+04</td>\n",
       "      <td>3.504100e+04</td>\n",
       "      <td>35041.000000</td>\n",
       "      <td>35041.000000</td>\n",
       "      <td>35041.000000</td>\n",
       "    </tr>\n",
       "    <tr>\n",
       "      <th>mean</th>\n",
       "      <td>2.351692e+04</td>\n",
       "      <td>1227.798493</td>\n",
       "      <td>1.103168e+04</td>\n",
       "      <td>1.125744e+04</td>\n",
       "      <td>469.348906</td>\n",
       "      <td>18.590508</td>\n",
       "      <td>271.163808</td>\n",
       "    </tr>\n",
       "    <tr>\n",
       "      <th>std</th>\n",
       "      <td>1.500045e+05</td>\n",
       "      <td>7423.438095</td>\n",
       "      <td>6.459747e+04</td>\n",
       "      <td>8.992780e+04</td>\n",
       "      <td>3008.153287</td>\n",
       "      <td>114.807722</td>\n",
       "      <td>2067.557128</td>\n",
       "    </tr>\n",
       "    <tr>\n",
       "      <th>min</th>\n",
       "      <td>0.000000e+00</td>\n",
       "      <td>0.000000</td>\n",
       "      <td>0.000000e+00</td>\n",
       "      <td>0.000000e+00</td>\n",
       "      <td>0.000000</td>\n",
       "      <td>0.000000</td>\n",
       "      <td>0.000000</td>\n",
       "    </tr>\n",
       "    <tr>\n",
       "      <th>25%</th>\n",
       "      <td>1.000000e+00</td>\n",
       "      <td>0.000000</td>\n",
       "      <td>0.000000e+00</td>\n",
       "      <td>0.000000e+00</td>\n",
       "      <td>0.000000</td>\n",
       "      <td>0.000000</td>\n",
       "      <td>0.000000</td>\n",
       "    </tr>\n",
       "    <tr>\n",
       "      <th>50%</th>\n",
       "      <td>2.460000e+02</td>\n",
       "      <td>4.000000</td>\n",
       "      <td>3.300000e+01</td>\n",
       "      <td>8.400000e+01</td>\n",
       "      <td>2.000000</td>\n",
       "      <td>0.000000</td>\n",
       "      <td>0.000000</td>\n",
       "    </tr>\n",
       "    <tr>\n",
       "      <th>75%</th>\n",
       "      <td>3.623000e+03</td>\n",
       "      <td>78.000000</td>\n",
       "      <td>1.279000e+03</td>\n",
       "      <td>1.454000e+03</td>\n",
       "      <td>74.000000</td>\n",
       "      <td>1.000000</td>\n",
       "      <td>20.000000</td>\n",
       "    </tr>\n",
       "    <tr>\n",
       "      <th>max</th>\n",
       "      <td>4.290259e+06</td>\n",
       "      <td>148011.000000</td>\n",
       "      <td>1.846641e+06</td>\n",
       "      <td>2.816444e+06</td>\n",
       "      <td>77255.000000</td>\n",
       "      <td>3887.000000</td>\n",
       "      <td>140050.000000</td>\n",
       "    </tr>\n",
       "  </tbody>\n",
       "</table>\n",
       "</div>"
      ],
      "text/plain": [
       "          Confirmed         Deaths     Recovered        Active     New cases  \\\n",
       "count  3.504100e+04   35041.000000  3.504100e+04  3.504100e+04  35041.000000   \n",
       "mean   2.351692e+04    1227.798493  1.103168e+04  1.125744e+04    469.348906   \n",
       "std    1.500045e+05    7423.438095  6.459747e+04  8.992780e+04   3008.153287   \n",
       "min    0.000000e+00       0.000000  0.000000e+00  0.000000e+00      0.000000   \n",
       "25%    1.000000e+00       0.000000  0.000000e+00  0.000000e+00      0.000000   \n",
       "50%    2.460000e+02       4.000000  3.300000e+01  8.400000e+01      2.000000   \n",
       "75%    3.623000e+03      78.000000  1.279000e+03  1.454000e+03     74.000000   \n",
       "max    4.290259e+06  148011.000000  1.846641e+06  2.816444e+06  77255.000000   \n",
       "\n",
       "         New deaths  New recovered  \n",
       "count  35041.000000   35041.000000  \n",
       "mean      18.590508     271.163808  \n",
       "std      114.807722    2067.557128  \n",
       "min        0.000000       0.000000  \n",
       "25%        0.000000       0.000000  \n",
       "50%        0.000000       0.000000  \n",
       "75%        1.000000      20.000000  \n",
       "max     3887.000000  140050.000000  "
      ]
     },
     "execution_count": 45,
     "metadata": {},
     "output_type": "execute_result"
    }
   ],
   "source": [
    "full_grouped_cleaned = full_grouped[(full_grouped.select_dtypes(include='number') >= 0).all(axis=1)]\n",
    "full_grouped_cleaned.describe()"
   ]
  },
  {
   "cell_type": "code",
   "execution_count": 46,
   "id": "507c87a0",
   "metadata": {},
   "outputs": [
    {
     "data": {
      "text/plain": [
       "np.int64(0)"
      ]
     },
     "execution_count": 46,
     "metadata": {},
     "output_type": "execute_result"
    }
   ],
   "source": [
    "usa_county_wise.duplicated().sum()"
   ]
  },
  {
   "cell_type": "code",
   "execution_count": 47,
   "id": "5ee57594",
   "metadata": {},
   "outputs": [
    {
     "name": "stdout",
     "output_type": "stream",
     "text": [
      "<class 'pandas.core.frame.DataFrame'>\n",
      "RangeIndex: 627920 entries, 0 to 627919\n",
      "Data columns (total 14 columns):\n",
      " #   Column          Non-Null Count   Dtype  \n",
      "---  ------          --------------   -----  \n",
      " 0   UID             627920 non-null  int64  \n",
      " 1   iso2            627920 non-null  object \n",
      " 2   iso3            627920 non-null  object \n",
      " 3   code3           627920 non-null  int64  \n",
      " 4   FIPS            626040 non-null  float64\n",
      " 5   Admin2          626792 non-null  object \n",
      " 6   Province_State  627920 non-null  object \n",
      " 7   Country_Region  627920 non-null  object \n",
      " 8   Lat             627920 non-null  float64\n",
      " 9   Long_           627920 non-null  float64\n",
      " 10  Combined_Key    627920 non-null  object \n",
      " 11  Date            627920 non-null  object \n",
      " 12  Confirmed       627920 non-null  int64  \n",
      " 13  Deaths          627920 non-null  int64  \n",
      "dtypes: float64(3), int64(4), object(7)\n",
      "memory usage: 67.1+ MB\n"
     ]
    },
    {
     "data": {
      "text/html": [
       "<div>\n",
       "<style scoped>\n",
       "    .dataframe tbody tr th:only-of-type {\n",
       "        vertical-align: middle;\n",
       "    }\n",
       "\n",
       "    .dataframe tbody tr th {\n",
       "        vertical-align: top;\n",
       "    }\n",
       "\n",
       "    .dataframe thead th {\n",
       "        text-align: right;\n",
       "    }\n",
       "</style>\n",
       "<table border=\"1\" class=\"dataframe\">\n",
       "  <thead>\n",
       "    <tr style=\"text-align: right;\">\n",
       "      <th></th>\n",
       "      <th>UID</th>\n",
       "      <th>code3</th>\n",
       "      <th>FIPS</th>\n",
       "      <th>Lat</th>\n",
       "      <th>Long_</th>\n",
       "      <th>Confirmed</th>\n",
       "      <th>Deaths</th>\n",
       "    </tr>\n",
       "  </thead>\n",
       "  <tbody>\n",
       "    <tr>\n",
       "      <th>count</th>\n",
       "      <td>6.279200e+05</td>\n",
       "      <td>627920.000000</td>\n",
       "      <td>626040.000000</td>\n",
       "      <td>627920.000000</td>\n",
       "      <td>627920.000000</td>\n",
       "      <td>627920.000000</td>\n",
       "      <td>627920.000000</td>\n",
       "    </tr>\n",
       "    <tr>\n",
       "      <th>mean</th>\n",
       "      <td>8.342958e+07</td>\n",
       "      <td>834.491617</td>\n",
       "      <td>33061.684685</td>\n",
       "      <td>36.707212</td>\n",
       "      <td>-88.601474</td>\n",
       "      <td>357.284285</td>\n",
       "      <td>17.536328</td>\n",
       "    </tr>\n",
       "    <tr>\n",
       "      <th>std</th>\n",
       "      <td>4.314702e+06</td>\n",
       "      <td>36.492620</td>\n",
       "      <td>18636.156825</td>\n",
       "      <td>9.061572</td>\n",
       "      <td>21.715747</td>\n",
       "      <td>3487.282694</td>\n",
       "      <td>300.991466</td>\n",
       "    </tr>\n",
       "    <tr>\n",
       "      <th>min</th>\n",
       "      <td>1.600000e+01</td>\n",
       "      <td>16.000000</td>\n",
       "      <td>60.000000</td>\n",
       "      <td>-14.271000</td>\n",
       "      <td>-174.159600</td>\n",
       "      <td>0.000000</td>\n",
       "      <td>0.000000</td>\n",
       "    </tr>\n",
       "    <tr>\n",
       "      <th>25%</th>\n",
       "      <td>8.401811e+07</td>\n",
       "      <td>840.000000</td>\n",
       "      <td>19079.000000</td>\n",
       "      <td>33.895587</td>\n",
       "      <td>-97.790204</td>\n",
       "      <td>0.000000</td>\n",
       "      <td>0.000000</td>\n",
       "    </tr>\n",
       "    <tr>\n",
       "      <th>50%</th>\n",
       "      <td>8.402921e+07</td>\n",
       "      <td>840.000000</td>\n",
       "      <td>31014.000000</td>\n",
       "      <td>38.002344</td>\n",
       "      <td>-89.486710</td>\n",
       "      <td>4.000000</td>\n",
       "      <td>0.000000</td>\n",
       "    </tr>\n",
       "    <tr>\n",
       "      <th>75%</th>\n",
       "      <td>8.404612e+07</td>\n",
       "      <td>840.000000</td>\n",
       "      <td>47131.000000</td>\n",
       "      <td>41.573069</td>\n",
       "      <td>-82.311265</td>\n",
       "      <td>63.000000</td>\n",
       "      <td>1.000000</td>\n",
       "    </tr>\n",
       "    <tr>\n",
       "      <th>max</th>\n",
       "      <td>8.410000e+07</td>\n",
       "      <td>850.000000</td>\n",
       "      <td>99999.000000</td>\n",
       "      <td>69.314792</td>\n",
       "      <td>145.673900</td>\n",
       "      <td>224051.000000</td>\n",
       "      <td>23500.000000</td>\n",
       "    </tr>\n",
       "  </tbody>\n",
       "</table>\n",
       "</div>"
      ],
      "text/plain": [
       "                UID          code3           FIPS            Lat  \\\n",
       "count  6.279200e+05  627920.000000  626040.000000  627920.000000   \n",
       "mean   8.342958e+07     834.491617   33061.684685      36.707212   \n",
       "std    4.314702e+06      36.492620   18636.156825       9.061572   \n",
       "min    1.600000e+01      16.000000      60.000000     -14.271000   \n",
       "25%    8.401811e+07     840.000000   19079.000000      33.895587   \n",
       "50%    8.402921e+07     840.000000   31014.000000      38.002344   \n",
       "75%    8.404612e+07     840.000000   47131.000000      41.573069   \n",
       "max    8.410000e+07     850.000000   99999.000000      69.314792   \n",
       "\n",
       "               Long_      Confirmed         Deaths  \n",
       "count  627920.000000  627920.000000  627920.000000  \n",
       "mean      -88.601474     357.284285      17.536328  \n",
       "std        21.715747    3487.282694     300.991466  \n",
       "min      -174.159600       0.000000       0.000000  \n",
       "25%       -97.790204       0.000000       0.000000  \n",
       "50%       -89.486710       4.000000       0.000000  \n",
       "75%       -82.311265      63.000000       1.000000  \n",
       "max       145.673900  224051.000000   23500.000000  "
      ]
     },
     "execution_count": 47,
     "metadata": {},
     "output_type": "execute_result"
    }
   ],
   "source": [
    "usa_county_wise.info()\n",
    "usa_county_wise.describe()"
   ]
  },
  {
   "cell_type": "markdown",
   "id": "d8a7a7b0",
   "metadata": {},
   "source": [
    "**Null rows less than 0.3% of entire dataset**\n",
    "\n",
    "**And they are about non states of usa like island and they are out of scope of my intersts**\n",
    "\n",
    "*So I will remove them*"
   ]
  },
  {
   "cell_type": "code",
   "execution_count": 48,
   "id": "d19e4f94",
   "metadata": {},
   "outputs": [
    {
     "name": "stdout",
     "output_type": "stream",
     "text": [
      "<class 'pandas.core.frame.DataFrame'>\n",
      "Index: 624912 entries, 3 to 627908\n",
      "Data columns (total 14 columns):\n",
      " #   Column          Non-Null Count   Dtype  \n",
      "---  ------          --------------   -----  \n",
      " 0   UID             624912 non-null  int64  \n",
      " 1   iso2            624912 non-null  object \n",
      " 2   iso3            624912 non-null  object \n",
      " 3   code3           624912 non-null  int64  \n",
      " 4   FIPS            624912 non-null  float64\n",
      " 5   Admin2          624912 non-null  object \n",
      " 6   Province_State  624912 non-null  object \n",
      " 7   Country_Region  624912 non-null  object \n",
      " 8   Lat             624912 non-null  float64\n",
      " 9   Long_           624912 non-null  float64\n",
      " 10  Combined_Key    624912 non-null  object \n",
      " 11  Date            624912 non-null  object \n",
      " 12  Confirmed       624912 non-null  int64  \n",
      " 13  Deaths          624912 non-null  int64  \n",
      "dtypes: float64(3), int64(4), object(7)\n",
      "memory usage: 71.5+ MB\n"
     ]
    }
   ],
   "source": [
    "usa_county_wise_cleaned = usa_county_wise.dropna()\n",
    "usa_county_wise_cleaned.info()"
   ]
  },
  {
   "cell_type": "code",
   "execution_count": 49,
   "id": "f7a66f2d",
   "metadata": {},
   "outputs": [
    {
     "data": {
      "text/plain": [
       "np.int64(0)"
      ]
     },
     "execution_count": 49,
     "metadata": {},
     "output_type": "execute_result"
    }
   ],
   "source": [
    "worldometer_data.duplicated().sum()"
   ]
  },
  {
   "cell_type": "code",
   "execution_count": 50,
   "id": "517942d8",
   "metadata": {},
   "outputs": [
    {
     "name": "stdout",
     "output_type": "stream",
     "text": [
      "<class 'pandas.core.frame.DataFrame'>\n",
      "RangeIndex: 209 entries, 0 to 208\n",
      "Data columns (total 16 columns):\n",
      " #   Column            Non-Null Count  Dtype  \n",
      "---  ------            --------------  -----  \n",
      " 0   Country/Region    209 non-null    object \n",
      " 1   Continent         208 non-null    object \n",
      " 2   Population        208 non-null    float64\n",
      " 3   TotalCases        209 non-null    int64  \n",
      " 4   NewCases          4 non-null      float64\n",
      " 5   TotalDeaths       188 non-null    float64\n",
      " 6   NewDeaths         3 non-null      float64\n",
      " 7   TotalRecovered    205 non-null    float64\n",
      " 8   NewRecovered      3 non-null      float64\n",
      " 9   ActiveCases       205 non-null    float64\n",
      " 10  Serious,Critical  122 non-null    float64\n",
      " 11  Tot Cases/1M pop  208 non-null    float64\n",
      " 12  Deaths/1M pop     187 non-null    float64\n",
      " 13  TotalTests        191 non-null    float64\n",
      " 14  Tests/1M pop      191 non-null    float64\n",
      " 15  WHO Region        184 non-null    object \n",
      "dtypes: float64(12), int64(1), object(3)\n",
      "memory usage: 26.3+ KB\n"
     ]
    },
    {
     "data": {
      "text/html": [
       "<div>\n",
       "<style scoped>\n",
       "    .dataframe tbody tr th:only-of-type {\n",
       "        vertical-align: middle;\n",
       "    }\n",
       "\n",
       "    .dataframe tbody tr th {\n",
       "        vertical-align: top;\n",
       "    }\n",
       "\n",
       "    .dataframe thead th {\n",
       "        text-align: right;\n",
       "    }\n",
       "</style>\n",
       "<table border=\"1\" class=\"dataframe\">\n",
       "  <thead>\n",
       "    <tr style=\"text-align: right;\">\n",
       "      <th></th>\n",
       "      <th>Population</th>\n",
       "      <th>TotalCases</th>\n",
       "      <th>NewCases</th>\n",
       "      <th>TotalDeaths</th>\n",
       "      <th>NewDeaths</th>\n",
       "      <th>TotalRecovered</th>\n",
       "      <th>NewRecovered</th>\n",
       "      <th>ActiveCases</th>\n",
       "      <th>Serious,Critical</th>\n",
       "      <th>Tot Cases/1M pop</th>\n",
       "      <th>Deaths/1M pop</th>\n",
       "      <th>TotalTests</th>\n",
       "      <th>Tests/1M pop</th>\n",
       "    </tr>\n",
       "  </thead>\n",
       "  <tbody>\n",
       "    <tr>\n",
       "      <th>count</th>\n",
       "      <td>2.080000e+02</td>\n",
       "      <td>2.090000e+02</td>\n",
       "      <td>4.000000</td>\n",
       "      <td>188.000000</td>\n",
       "      <td>3.000000</td>\n",
       "      <td>2.050000e+02</td>\n",
       "      <td>3.000000</td>\n",
       "      <td>2.050000e+02</td>\n",
       "      <td>122.000000</td>\n",
       "      <td>208.000000</td>\n",
       "      <td>187.000000</td>\n",
       "      <td>1.910000e+02</td>\n",
       "      <td>191.000000</td>\n",
       "    </tr>\n",
       "    <tr>\n",
       "      <th>mean</th>\n",
       "      <td>3.041549e+07</td>\n",
       "      <td>9.171850e+04</td>\n",
       "      <td>1980.500000</td>\n",
       "      <td>3792.590426</td>\n",
       "      <td>300.000000</td>\n",
       "      <td>5.887898e+04</td>\n",
       "      <td>1706.000000</td>\n",
       "      <td>2.766433e+04</td>\n",
       "      <td>534.393443</td>\n",
       "      <td>3196.024038</td>\n",
       "      <td>98.681176</td>\n",
       "      <td>1.402405e+06</td>\n",
       "      <td>83959.366492</td>\n",
       "    </tr>\n",
       "    <tr>\n",
       "      <th>std</th>\n",
       "      <td>1.047661e+08</td>\n",
       "      <td>4.325867e+05</td>\n",
       "      <td>3129.611424</td>\n",
       "      <td>15487.184877</td>\n",
       "      <td>451.199512</td>\n",
       "      <td>2.566984e+05</td>\n",
       "      <td>2154.779803</td>\n",
       "      <td>1.746327e+05</td>\n",
       "      <td>2047.518613</td>\n",
       "      <td>5191.986457</td>\n",
       "      <td>174.956862</td>\n",
       "      <td>5.553367e+06</td>\n",
       "      <td>152730.591240</td>\n",
       "    </tr>\n",
       "    <tr>\n",
       "      <th>min</th>\n",
       "      <td>8.010000e+02</td>\n",
       "      <td>1.000000e+01</td>\n",
       "      <td>20.000000</td>\n",
       "      <td>1.000000</td>\n",
       "      <td>1.000000</td>\n",
       "      <td>7.000000e+00</td>\n",
       "      <td>42.000000</td>\n",
       "      <td>0.000000e+00</td>\n",
       "      <td>1.000000</td>\n",
       "      <td>3.000000</td>\n",
       "      <td>0.080000</td>\n",
       "      <td>6.100000e+01</td>\n",
       "      <td>4.000000</td>\n",
       "    </tr>\n",
       "    <tr>\n",
       "      <th>25%</th>\n",
       "      <td>9.663140e+05</td>\n",
       "      <td>7.120000e+02</td>\n",
       "      <td>27.500000</td>\n",
       "      <td>22.000000</td>\n",
       "      <td>40.500000</td>\n",
       "      <td>3.340000e+02</td>\n",
       "      <td>489.000000</td>\n",
       "      <td>8.600000e+01</td>\n",
       "      <td>3.250000</td>\n",
       "      <td>282.000000</td>\n",
       "      <td>6.000000</td>\n",
       "      <td>2.575200e+04</td>\n",
       "      <td>8956.500000</td>\n",
       "    </tr>\n",
       "    <tr>\n",
       "      <th>50%</th>\n",
       "      <td>7.041972e+06</td>\n",
       "      <td>4.491000e+03</td>\n",
       "      <td>656.000000</td>\n",
       "      <td>113.000000</td>\n",
       "      <td>80.000000</td>\n",
       "      <td>2.178000e+03</td>\n",
       "      <td>936.000000</td>\n",
       "      <td>8.990000e+02</td>\n",
       "      <td>27.500000</td>\n",
       "      <td>1015.000000</td>\n",
       "      <td>29.000000</td>\n",
       "      <td>1.357020e+05</td>\n",
       "      <td>32585.000000</td>\n",
       "    </tr>\n",
       "    <tr>\n",
       "      <th>75%</th>\n",
       "      <td>2.575614e+07</td>\n",
       "      <td>3.689600e+04</td>\n",
       "      <td>2609.000000</td>\n",
       "      <td>786.000000</td>\n",
       "      <td>449.500000</td>\n",
       "      <td>2.055300e+04</td>\n",
       "      <td>2538.000000</td>\n",
       "      <td>7.124000e+03</td>\n",
       "      <td>160.250000</td>\n",
       "      <td>3841.750000</td>\n",
       "      <td>98.000000</td>\n",
       "      <td>7.576960e+05</td>\n",
       "      <td>92154.500000</td>\n",
       "    </tr>\n",
       "    <tr>\n",
       "      <th>max</th>\n",
       "      <td>1.381345e+09</td>\n",
       "      <td>5.032179e+06</td>\n",
       "      <td>6590.000000</td>\n",
       "      <td>162804.000000</td>\n",
       "      <td>819.000000</td>\n",
       "      <td>2.576668e+06</td>\n",
       "      <td>4140.000000</td>\n",
       "      <td>2.292707e+06</td>\n",
       "      <td>18296.000000</td>\n",
       "      <td>39922.000000</td>\n",
       "      <td>1238.000000</td>\n",
       "      <td>6.313960e+07</td>\n",
       "      <td>995282.000000</td>\n",
       "    </tr>\n",
       "  </tbody>\n",
       "</table>\n",
       "</div>"
      ],
      "text/plain": [
       "         Population    TotalCases     NewCases    TotalDeaths   NewDeaths  \\\n",
       "count  2.080000e+02  2.090000e+02     4.000000     188.000000    3.000000   \n",
       "mean   3.041549e+07  9.171850e+04  1980.500000    3792.590426  300.000000   \n",
       "std    1.047661e+08  4.325867e+05  3129.611424   15487.184877  451.199512   \n",
       "min    8.010000e+02  1.000000e+01    20.000000       1.000000    1.000000   \n",
       "25%    9.663140e+05  7.120000e+02    27.500000      22.000000   40.500000   \n",
       "50%    7.041972e+06  4.491000e+03   656.000000     113.000000   80.000000   \n",
       "75%    2.575614e+07  3.689600e+04  2609.000000     786.000000  449.500000   \n",
       "max    1.381345e+09  5.032179e+06  6590.000000  162804.000000  819.000000   \n",
       "\n",
       "       TotalRecovered  NewRecovered   ActiveCases  Serious,Critical  \\\n",
       "count    2.050000e+02      3.000000  2.050000e+02        122.000000   \n",
       "mean     5.887898e+04   1706.000000  2.766433e+04        534.393443   \n",
       "std      2.566984e+05   2154.779803  1.746327e+05       2047.518613   \n",
       "min      7.000000e+00     42.000000  0.000000e+00          1.000000   \n",
       "25%      3.340000e+02    489.000000  8.600000e+01          3.250000   \n",
       "50%      2.178000e+03    936.000000  8.990000e+02         27.500000   \n",
       "75%      2.055300e+04   2538.000000  7.124000e+03        160.250000   \n",
       "max      2.576668e+06   4140.000000  2.292707e+06      18296.000000   \n",
       "\n",
       "       Tot Cases/1M pop  Deaths/1M pop    TotalTests   Tests/1M pop  \n",
       "count        208.000000     187.000000  1.910000e+02     191.000000  \n",
       "mean        3196.024038      98.681176  1.402405e+06   83959.366492  \n",
       "std         5191.986457     174.956862  5.553367e+06  152730.591240  \n",
       "min            3.000000       0.080000  6.100000e+01       4.000000  \n",
       "25%          282.000000       6.000000  2.575200e+04    8956.500000  \n",
       "50%         1015.000000      29.000000  1.357020e+05   32585.000000  \n",
       "75%         3841.750000      98.000000  7.576960e+05   92154.500000  \n",
       "max        39922.000000    1238.000000  6.313960e+07  995282.000000  "
      ]
     },
     "execution_count": 50,
     "metadata": {},
     "output_type": "execute_result"
    }
   ],
   "source": [
    "worldometer_data.info()\n",
    "worldometer_data.describe()"
   ]
  },
  {
   "cell_type": "code",
   "execution_count": 51,
   "id": "80286533",
   "metadata": {},
   "outputs": [
    {
     "name": "stdout",
     "output_type": "stream",
     "text": [
      "       Country/Region Continent  Population  TotalCases  NewCases  \\\n",
      "156  Diamond Princess       NaN         NaN         712       NaN   \n",
      "\n",
      "     TotalDeaths  NewDeaths  TotalRecovered  NewRecovered  ActiveCases  \\\n",
      "156         13.0        NaN           651.0           NaN         48.0   \n",
      "\n",
      "     Serious,Critical  Tot Cases/1M pop  Deaths/1M pop  TotalTests  \\\n",
      "156               4.0               NaN            NaN         NaN   \n",
      "\n",
      "     Tests/1M pop WHO Region  \n",
      "156           NaN        NaN  \n"
     ]
    }
   ],
   "source": [
    "null_Continent = worldometer_data[worldometer_data[\"Continent\"].isnull()]\n",
    "print(null_Continent)"
   ]
  },
  {
   "cell_type": "markdown",
   "id": "3499d14c",
   "metadata": {},
   "source": [
    "That is a ship not country"
   ]
  },
  {
   "cell_type": "code",
   "execution_count": 52,
   "id": "980ba78a",
   "metadata": {},
   "outputs": [
    {
     "name": "stdout",
     "output_type": "stream",
     "text": [
      "<class 'pandas.core.frame.DataFrame'>\n",
      "Index: 208 entries, 0 to 208\n",
      "Data columns (total 16 columns):\n",
      " #   Column            Non-Null Count  Dtype  \n",
      "---  ------            --------------  -----  \n",
      " 0   Country/Region    208 non-null    object \n",
      " 1   Continent         208 non-null    object \n",
      " 2   Population        208 non-null    float64\n",
      " 3   TotalCases        208 non-null    int64  \n",
      " 4   NewCases          4 non-null      float64\n",
      " 5   TotalDeaths       187 non-null    float64\n",
      " 6   NewDeaths         3 non-null      float64\n",
      " 7   TotalRecovered    204 non-null    float64\n",
      " 8   NewRecovered      3 non-null      float64\n",
      " 9   ActiveCases       204 non-null    float64\n",
      " 10  Serious,Critical  121 non-null    float64\n",
      " 11  Tot Cases/1M pop  208 non-null    float64\n",
      " 12  Deaths/1M pop     187 non-null    float64\n",
      " 13  TotalTests        191 non-null    float64\n",
      " 14  Tests/1M pop      191 non-null    float64\n",
      " 15  WHO Region        184 non-null    object \n",
      "dtypes: float64(12), int64(1), object(3)\n",
      "memory usage: 27.6+ KB\n"
     ]
    }
   ],
   "source": [
    "worldometer_data_cleaned = worldometer_data.dropna(subset=[\"Continent\"])\n",
    "worldometer_data_cleaned.info()"
   ]
  },
  {
   "cell_type": "code",
   "execution_count": 53,
   "id": "b61ee851",
   "metadata": {},
   "outputs": [
    {
     "name": "stdout",
     "output_type": "stream",
     "text": [
      "             Country/Region          Continent  Population  TotalCases  \\\n",
      "168                Mongolia               Asia   3283344.0         293   \n",
      "169                 Eritrea             Africa   3551175.0         282   \n",
      "172          Faeroe Islands             Europe     48882.0         266   \n",
      "174                Cambodia               Asia  16741375.0         243   \n",
      "177               Gibraltar             Europe     33690.0         190   \n",
      "184              Seychelles             Africa     98408.0         126   \n",
      "186                  Bhutan               Asia    772443.0         105   \n",
      "190        French Polynesia  Australia/Oceania    281072.0          64   \n",
      "191  St. Vincent Grenadines      North America    110976.0          56   \n",
      "193                   Macao               Asia    650193.0          46   \n",
      "196             Saint Lucia      North America    183712.0          25   \n",
      "197             Timor-Leste               Asia   1320812.0          25   \n",
      "198                 Grenada      North America    112576.0          24   \n",
      "199           New Caledonia  Australia/Oceania    285769.0          22   \n",
      "200                    Laos               Asia   7285750.0          20   \n",
      "201                Dominica      North America     72004.0          18   \n",
      "202   Saint Kitts and Nevis      North America     53237.0          17   \n",
      "203               Greenland      North America     56780.0          14   \n",
      "205   Caribbean Netherlands      North America     26247.0          13   \n",
      "206        Falkland Islands      South America      3489.0          13   \n",
      "207            Vatican City             Europe       801.0          12   \n",
      "\n",
      "     NewCases  TotalDeaths  NewDeaths  TotalRecovered  NewRecovered  \\\n",
      "168       NaN          NaN        NaN           260.0           NaN   \n",
      "169       NaN          NaN        NaN           225.0           NaN   \n",
      "172       NaN          NaN        NaN           192.0           NaN   \n",
      "174       NaN          NaN        NaN           210.0           NaN   \n",
      "177       NaN          NaN        NaN           184.0           NaN   \n",
      "184       NaN          NaN        NaN           124.0           NaN   \n",
      "186       NaN          NaN        NaN            93.0           NaN   \n",
      "190       NaN          NaN        NaN            62.0           NaN   \n",
      "191       NaN          NaN        NaN            46.0           NaN   \n",
      "193       NaN          NaN        NaN            46.0           NaN   \n",
      "196       NaN          NaN        NaN            24.0           NaN   \n",
      "197       NaN          NaN        NaN            24.0           NaN   \n",
      "198       NaN          NaN        NaN            23.0           NaN   \n",
      "199       NaN          NaN        NaN            22.0           NaN   \n",
      "200       NaN          NaN        NaN            19.0           NaN   \n",
      "201       NaN          NaN        NaN            18.0           NaN   \n",
      "202       NaN          NaN        NaN            16.0           NaN   \n",
      "203       NaN          NaN        NaN            14.0           NaN   \n",
      "205       NaN          NaN        NaN             7.0           NaN   \n",
      "206       NaN          NaN        NaN            13.0           NaN   \n",
      "207       NaN          NaN        NaN            12.0           NaN   \n",
      "\n",
      "     ActiveCases  Serious,Critical  Tot Cases/1M pop  Deaths/1M pop  \\\n",
      "168         33.0               1.0              89.0            NaN   \n",
      "169         57.0               NaN              79.0            NaN   \n",
      "172         74.0               1.0            5442.0            NaN   \n",
      "174         33.0               1.0              15.0            NaN   \n",
      "177          6.0               NaN            5640.0            NaN   \n",
      "184          2.0               NaN            1280.0            NaN   \n",
      "186         12.0               NaN             136.0            NaN   \n",
      "190          2.0               NaN             228.0            NaN   \n",
      "191         10.0               NaN             505.0            NaN   \n",
      "193          0.0               NaN              71.0            NaN   \n",
      "196          1.0               NaN             136.0            NaN   \n",
      "197          1.0               NaN              19.0            NaN   \n",
      "198          1.0               NaN             213.0            NaN   \n",
      "199          0.0               NaN              77.0            NaN   \n",
      "200          1.0               NaN               3.0            NaN   \n",
      "201          0.0               NaN             250.0            NaN   \n",
      "202          1.0               NaN             319.0            NaN   \n",
      "203          0.0               NaN             247.0            NaN   \n",
      "205          6.0               NaN             495.0            NaN   \n",
      "206          0.0               NaN            3726.0            NaN   \n",
      "207          0.0               NaN           14981.0            NaN   \n",
      "\n",
      "     TotalTests  Tests/1M pop      WHO Region  \n",
      "168     38334.0       11675.0  WesternPacific  \n",
      "169         NaN           NaN          Africa  \n",
      "172     43045.0      880590.0             NaN  \n",
      "174     67807.0        4050.0  WesternPacific  \n",
      "177     23063.0      684565.0             NaN  \n",
      "184         NaN           NaN          Africa  \n",
      "186     54589.0       70671.0  South-EastAsia  \n",
      "190      5849.0       20810.0             NaN  \n",
      "191      2447.0       22050.0             NaN  \n",
      "193      4071.0        6261.0             NaN  \n",
      "196      3895.0       21202.0        Americas  \n",
      "197      4238.0        3209.0  South-EastAsia  \n",
      "198      6252.0       55536.0        Americas  \n",
      "199     11099.0       38839.0             NaN  \n",
      "200     29374.0        4032.0  WesternPacific  \n",
      "201      1005.0       13958.0        Americas  \n",
      "202      1146.0       21526.0        Americas  \n",
      "203      5977.0      105266.0          Europe  \n",
      "205       424.0       16154.0             NaN  \n",
      "206      1816.0      520493.0             NaN  \n",
      "207         NaN           NaN          Europe  \n"
     ]
    }
   ],
   "source": [
    "null_TotalDeaths = worldometer_data[worldometer_data[\"TotalDeaths\"].isnull()]\n",
    "print(null_TotalDeaths)"
   ]
  },
  {
   "cell_type": "markdown",
   "id": "66f2dbfd",
   "metadata": {},
   "source": [
    "There is some countries that there is no enough data about them and my scope to make analysis about countries that we had data about them\n",
    "\n",
    "So I will drop them"
   ]
  },
  {
   "cell_type": "code",
   "execution_count": 54,
   "id": "d4b2ec6e",
   "metadata": {},
   "outputs": [
    {
     "name": "stdout",
     "output_type": "stream",
     "text": [
      "<class 'pandas.core.frame.DataFrame'>\n",
      "Index: 169 entries, 0 to 204\n",
      "Data columns (total 16 columns):\n",
      " #   Column            Non-Null Count  Dtype  \n",
      "---  ------            --------------  -----  \n",
      " 0   Country/Region    169 non-null    object \n",
      " 1   Continent         169 non-null    object \n",
      " 2   Population        169 non-null    float64\n",
      " 3   TotalCases        169 non-null    int64  \n",
      " 4   NewCases          4 non-null      float64\n",
      " 5   TotalDeaths       169 non-null    float64\n",
      " 6   NewDeaths         3 non-null      float64\n",
      " 7   TotalRecovered    169 non-null    float64\n",
      " 8   NewRecovered      3 non-null      float64\n",
      " 9   ActiveCases       169 non-null    float64\n",
      " 10  Serious,Critical  111 non-null    float64\n",
      " 11  Tot Cases/1M pop  169 non-null    float64\n",
      " 12  Deaths/1M pop     169 non-null    float64\n",
      " 13  TotalTests        169 non-null    float64\n",
      " 14  Tests/1M pop      169 non-null    float64\n",
      " 15  WHO Region        153 non-null    object \n",
      "dtypes: float64(12), int64(1), object(3)\n",
      "memory usage: 22.4+ KB\n"
     ]
    }
   ],
   "source": [
    "worldometer_data_cleaned = worldometer_data_cleaned.dropna(subset=[\"TotalDeaths\"])\n",
    "worldometer_data_cleaned = worldometer_data_cleaned.dropna(subset=[\"TotalRecovered\"])\n",
    "worldometer_data_cleaned = worldometer_data_cleaned.dropna(subset=[\"TotalTests\"])\n",
    "worldometer_data_cleaned.info()"
   ]
  },
  {
   "cell_type": "markdown",
   "id": "0f7d1257",
   "metadata": {},
   "source": [
    "These Data is about covid 19 after the pandemic so all NewCases ,NewDeaths,NewRecovered should be zeros so the null values in them should be zeros\n"
   ]
  },
  {
   "cell_type": "code",
   "execution_count": 55,
   "id": "a702b164",
   "metadata": {},
   "outputs": [
    {
     "name": "stdout",
     "output_type": "stream",
     "text": [
      "<class 'pandas.core.frame.DataFrame'>\n",
      "Index: 169 entries, 0 to 204\n",
      "Data columns (total 16 columns):\n",
      " #   Column            Non-Null Count  Dtype  \n",
      "---  ------            --------------  -----  \n",
      " 0   Country/Region    169 non-null    object \n",
      " 1   Continent         169 non-null    object \n",
      " 2   Population        169 non-null    float64\n",
      " 3   TotalCases        169 non-null    int64  \n",
      " 4   NewCases          169 non-null    float64\n",
      " 5   TotalDeaths       169 non-null    float64\n",
      " 6   NewDeaths         169 non-null    float64\n",
      " 7   TotalRecovered    169 non-null    float64\n",
      " 8   NewRecovered      169 non-null    float64\n",
      " 9   ActiveCases       169 non-null    float64\n",
      " 10  Serious,Critical  169 non-null    float64\n",
      " 11  Tot Cases/1M pop  169 non-null    float64\n",
      " 12  Deaths/1M pop     169 non-null    float64\n",
      " 13  TotalTests        169 non-null    float64\n",
      " 14  Tests/1M pop      169 non-null    float64\n",
      " 15  WHO Region        153 non-null    object \n",
      "dtypes: float64(12), int64(1), object(3)\n",
      "memory usage: 22.4+ KB\n"
     ]
    }
   ],
   "source": [
    "worldometer_data_cleaned[[\"NewCases\",\"NewDeaths\",\"NewRecovered\",\"Serious,Critical\"]] = worldometer_data_cleaned[[\"NewCases\",\"NewDeaths\",\"NewRecovered\",\"Serious,Critical\"]].fillna(0)\n",
    "worldometer_data_cleaned.info()"
   ]
  },
  {
   "cell_type": "markdown",
   "id": "eed854a2",
   "metadata": {},
   "source": [
    "WHO Region is not of my interst and it dosn't add any value to the analysis as I have the Country/Region and Continent         "
   ]
  },
  {
   "cell_type": "code",
   "execution_count": 56,
   "id": "3c772319",
   "metadata": {},
   "outputs": [
    {
     "name": "stdout",
     "output_type": "stream",
     "text": [
      "<class 'pandas.core.frame.DataFrame'>\n",
      "Index: 169 entries, 0 to 204\n",
      "Data columns (total 15 columns):\n",
      " #   Column            Non-Null Count  Dtype  \n",
      "---  ------            --------------  -----  \n",
      " 0   Country/Region    169 non-null    object \n",
      " 1   Continent         169 non-null    object \n",
      " 2   Population        169 non-null    float64\n",
      " 3   TotalCases        169 non-null    int64  \n",
      " 4   NewCases          169 non-null    float64\n",
      " 5   TotalDeaths       169 non-null    float64\n",
      " 6   NewDeaths         169 non-null    float64\n",
      " 7   TotalRecovered    169 non-null    float64\n",
      " 8   NewRecovered      169 non-null    float64\n",
      " 9   ActiveCases       169 non-null    float64\n",
      " 10  Serious,Critical  169 non-null    float64\n",
      " 11  Tot Cases/1M pop  169 non-null    float64\n",
      " 12  Deaths/1M pop     169 non-null    float64\n",
      " 13  TotalTests        169 non-null    float64\n",
      " 14  Tests/1M pop      169 non-null    float64\n",
      "dtypes: float64(12), int64(1), object(2)\n",
      "memory usage: 21.1+ KB\n"
     ]
    }
   ],
   "source": [
    "worldometer_data_cleaned = worldometer_data_cleaned.drop(\"WHO Region\", axis=1)\n",
    "worldometer_data_cleaned.info()"
   ]
  },
  {
   "cell_type": "markdown",
   "id": "142505f2",
   "metadata": {},
   "source": [
    "### Data Quality & Wrangling / Cleaning Summary  \n",
    "\n",
    "The raw datasets contained several quality issues such as duplicates, negative values, and missing values. A systematic cleaning process was performed to ensure consistency and reliability of the data before proceeding with analysis:  \n",
    "\n",
    "- **Schema & Structure**:  \n",
    "  All three datasets (`full_grouped`, `usa_county_wise`, `worldometer_data`) were inspected for schema structure, data types, and descriptive statistics to understand the variables and detect anomalies.  \n",
    "\n",
    "- **Duplicates**:  \n",
    "  Duplicate checks were carried out, and no significant duplicates were found across the datasets, so no action was needed here.  \n",
    "\n",
    "- **Negative Values**:  \n",
    "  A small percentage (<0.3%) of negative values were found in numerical columns of `full_grouped`. Since negative case/death counts are not logical and likely result from reporting adjustments, these rows were **removed**.  \n",
    "\n",
    "- **Missing Values**:  \n",
    "  - In **`usa_county_wise`**, null values mainly corresponded to U.S. territories or islands (not part of the study focus). These rows were **dropped**.  \n",
    "  - In **`worldometer_data`**, missing `Continent` values were linked to non-country entities such as ships, so these were **removed**.  \n",
    "  - Records with missing critical fields (`TotalDeaths`, `TotalRecovered`, `TotalTests`) were also **dropped**, as they would undermine the accuracy of trend and correlation analysis.  \n",
    "  - Columns representing new daily counts (`NewCases`, `NewDeaths`, `NewRecovered`, `Serious,Critical`) contained nulls that logically mean zero (especially in post-pandemic data). These were therefore **replaced with 0**.  \n",
    "\n",
    "- **Feature Reduction**:  \n",
    "  The `WHO Region` column was dropped as it provided no additional value beyond `Country/Region` and `Continent`, which are sufficient for regional comparisons.  \n",
    "\n",
    "- **Final Datasets**:  \n",
    "  After cleaning, the datasets are free of negative values, unnecessary nulls, and redundant columns. They now contain consistent, valid, and meaningful records that can support trustworthy exploratory analysis and business insights.  \n"
   ]
  },
  {
   "cell_type": "markdown",
   "id": "c96d16be",
   "metadata": {},
   "source": [
    "## Exploratory Data Analysis (EDA)  , Business Questions & Insights & Recommendations:\n",
    "\n",
    "The goal of EDA is to explore the cleaned datasets to uncover patterns, distributions, and relationships that can provide meaningful insights about the COVID-19 pandemic.  \n",
    "\n",
    "###  Univariate Analysis (one variable at a time)  \n",
    "\n",
    "- **Distribution Analysis**  \n",
    "  - Visualize the distribution of **Total Cases, Total Deaths, and Total Recovered** over time.  \n",
    "  - This helps identify the spread, skewness, and presence of extreme outliers in the data.  \n",
    "\n",
    "- **Top 10 Countries Analysis**  \n",
    "  - Rank and display the **Top 10 countries** with the highest **Confirmed Cases** , **Deaths** and **Recovered**  using bar charts.  \n",
    "  - This highlights the countries most severely impacted and sets the stage for further comparative analysis.  \n"
   ]
  },
  {
   "cell_type": "code",
   "execution_count": 57,
   "id": "6d38ab1a",
   "metadata": {},
   "outputs": [
    {
     "name": "stderr",
     "output_type": "stream",
     "text": [
      "C:\\Users\\QaiatY store\\AppData\\Local\\Temp\\ipykernel_6844\\253359228.py:2: SettingWithCopyWarning:\n",
      "\n",
      "\n",
      "A value is trying to be set on a copy of a slice from a DataFrame.\n",
      "Try using .loc[row_indexer,col_indexer] = value instead\n",
      "\n",
      "See the caveats in the documentation: https://pandas.pydata.org/pandas-docs/stable/user_guide/indexing.html#returning-a-view-versus-a-copy\n",
      "\n"
     ]
    },
    {
     "data": {
      "image/png": "[encoded data removed]",
      "text/plain": [
       "<Figure size 1500x500 with 3 Axes>"
      ]
     },
     "metadata": {},
     "output_type": "display_data"
    }
   ],
   "source": [
    "# Ensure Date column is datetime\n",
    "full_grouped_cleaned[\"Date\"] = pd.to_datetime(full_grouped_cleaned[\"Date\"])\n",
    "\n",
    "# Group by Month\n",
    "monthly_2020 = full_grouped_cleaned.groupby(full_grouped_cleaned[\"Date\"].dt.to_period(\"M\"))[[\"Confirmed\", \"Deaths\", \"Recovered\"]].sum().reset_index()\n",
    "monthly_2020[\"Date\"] = monthly_2020[\"Date\"].dt.to_timestamp()  # convert Period back to Timestamp\n",
    "\n",
    "plt.figure(figsize=(15,5))\n",
    "\n",
    "# Total Cases\n",
    "plt.subplot(1,3,1)\n",
    "sns.lineplot(data=monthly_2020, x=\"Date\", y=\"Confirmed\", marker=\"o\", color=\"blue\")\n",
    "plt.title(\"Global Total Cases (Monthly, 2020)\")\n",
    "plt.xlabel(\"Month\")\n",
    "plt.ylabel(\"Confirmed Cases\")\n",
    "plt.xticks(rotation=45)\n",
    "\n",
    "# Total Deaths\n",
    "plt.subplot(1,3,2)\n",
    "sns.lineplot(data=monthly_2020, x=\"Date\", y=\"Deaths\", marker=\"o\", color=\"red\")\n",
    "plt.title(\"Global Total Deaths (Monthly, 2020)\")\n",
    "plt.xlabel(\"Month\")\n",
    "plt.ylabel(\"Deaths\")\n",
    "plt.xticks(rotation=45)\n",
    "\n",
    "# Total Recovered\n",
    "plt.subplot(1,3,3)\n",
    "sns.lineplot(data=monthly_2020, x=\"Date\", y=\"Recovered\", marker=\"o\", color=\"green\")\n",
    "plt.title(\"Global Total Recovered (Monthly, 2020)\")\n",
    "plt.xlabel(\"Month\")\n",
    "plt.ylabel(\"Recovered\")\n",
    "plt.xticks(rotation=45)\n",
    "\n",
    "plt.tight_layout()\n",
    "plt.show()\n"
   ]
  },
  {
   "cell_type": "code",
   "execution_count": 58,
   "id": "85839ad2",
   "metadata": {},
   "outputs": [
    {
     "name": "stderr",
     "output_type": "stream",
     "text": [
      "C:\\Users\\QaiatY store\\AppData\\Local\\Temp\\ipykernel_6844\\91623231.py:14: FutureWarning:\n",
      "\n",
      "\n",
      "\n",
      "Passing `palette` without assigning `hue` is deprecated and will be removed in v0.14.0. Assign the `y` variable to `hue` and set `legend=False` for the same effect.\n",
      "\n",
      "\n",
      "C:\\Users\\QaiatY store\\AppData\\Local\\Temp\\ipykernel_6844\\91623231.py:21: FutureWarning:\n",
      "\n",
      "\n",
      "\n",
      "Passing `palette` without assigning `hue` is deprecated and will be removed in v0.14.0. Assign the `y` variable to `hue` and set `legend=False` for the same effect.\n",
      "\n",
      "\n",
      "C:\\Users\\QaiatY store\\AppData\\Local\\Temp\\ipykernel_6844\\91623231.py:28: FutureWarning:\n",
      "\n",
      "\n",
      "\n",
      "Passing `palette` without assigning `hue` is deprecated and will be removed in v0.14.0. Assign the `y` variable to `hue` and set `legend=False` for the same effect.\n",
      "\n",
      "\n"
     ]
    },
    {
     "data": {
      "image/png": "[encoded data removed]",
      "text/plain": [
       "<Figure size 1800x600 with 3 Axes>"
      ]
     },
     "metadata": {},
     "output_type": "display_data"
    }
   ],
   "source": [
    "# Group by Country for totals\n",
    "country_totals = full_grouped_cleaned.groupby(\"Country/Region\")[[\"Confirmed\", \"Deaths\", \"Recovered\"]].sum().reset_index()\n",
    "\n",
    "# Top 10 by Confirmed, Deaths, Recovered\n",
    "top10_confirmed = country_totals.nlargest(10, \"Confirmed\")\n",
    "top10_deaths = country_totals.nlargest(10, \"Deaths\")\n",
    "top10_recovered = country_totals.nlargest(10, \"Recovered\")\n",
    "\n",
    "# Plot subplots\n",
    "plt.figure(figsize=(18,6))\n",
    "\n",
    "# Top 10 Confirmed\n",
    "plt.subplot(1,3,1)\n",
    "sns.barplot(data=top10_confirmed, x=\"Confirmed\", y=\"Country/Region\", palette=\"Blues_r\")\n",
    "plt.title(\"Top 10 Countries by Confirmed Cases\")\n",
    "plt.xlabel(\"Total Confirmed Cases\")\n",
    "plt.ylabel(\"Country\")\n",
    "\n",
    "# Top 10 Deaths\n",
    "plt.subplot(1,3,2)\n",
    "sns.barplot(data=top10_deaths, x=\"Deaths\", y=\"Country/Region\", palette=\"Reds_r\")\n",
    "plt.title(\"Top 10 Countries by Deaths\")\n",
    "plt.xlabel(\"Total Deaths\")\n",
    "plt.ylabel(\"\")\n",
    "\n",
    "# Top 10 Recovered\n",
    "plt.subplot(1,3,3)\n",
    "sns.barplot(data=top10_recovered, x=\"Recovered\", y=\"Country/Region\", palette=\"Greens_r\")\n",
    "plt.title(\"Top 10 Countries by Recovered\")\n",
    "plt.xlabel(\"Total Recovered\")\n",
    "plt.ylabel(\"\")\n",
    "\n",
    "plt.tight_layout()\n",
    "plt.show()\n"
   ]
  },
  {
   "cell_type": "markdown",
   "id": "b9646ec9",
   "metadata": {},
   "source": [
    "**Insight**\n",
    " **Regional Disparity**  \n",
    "   The Americas and Europe have dramatically higher confirmed COVID-19 cases than all other regions combined, making them the pandemic’s \n",
    "   South-East Asia, Eastern Mediterranean, Africa, and the Western Pacific have significantly fewer cases.\n",
    "\n",
    "**Business Question:** \n",
    "Where should a global health organization with limited resources focus to maximize impact?  \n",
    "\n",
    "**Answer:** \n",
    "Prioritize the Americas and Europe, as they bear the highest case burden and require urgent intervention.\n",
    "\n",
    "**Recommendation**  \n",
    "   Direct resources to these hotspots, including PPE, ventilators, testing kits, expert personnel, and financial aid to strengthen healthcare systems and contain outbreaks effectively.\n"
   ]
  },
  {
   "cell_type": "markdown",
   "id": "a3bf1ffa",
   "metadata": {},
   "source": [
    "##  Bivariate Analysis\n",
    "\n",
    "This section examines relationships between two variables in our COVID-19 dataset."
   ]
  },
  {
   "cell_type": "markdown",
   "id": "e15cd1e0",
   "metadata": {},
   "source": [
    "The **Case Fatality Rate (CFR)** is a measure used to understand the severity of a disease.\n",
    "\n",
    "CFR is (deaths/cases) %"
   ]
  },
  {
   "cell_type": "code",
   "execution_count": 65,
   "id": "bb48c1eb",
   "metadata": {},
   "outputs": [
    {
     "name": "stderr",
     "output_type": "stream",
     "text": [
      "C:\\Users\\QaiatY store\\AppData\\Local\\Temp\\ipykernel_6844\\186214180.py:9: FutureWarning:\n",
      "\n",
      "\n",
      "\n",
      "Passing `palette` without assigning `hue` is deprecated and will be removed in v0.14.0. Assign the `x` variable to `hue` and set `legend=False` for the same effect.\n",
      "\n",
      "\n"
     ]
    },
    {
     "data": {
      "image/png": "[encoded data removed]",
      "text/plain": [
       "<Figure size 1000x600 with 1 Axes>"
      ]
     },
     "metadata": {},
     "output_type": "display_data"
    }
   ],
   "source": [
    "# Calculate CFR (%) for each country\n",
    "worldometer_data_cleaned[\"CFR(%)\"] = (worldometer_data_cleaned[\"TotalDeaths\"] / worldometer_data_cleaned[\"TotalCases\"]) * 100\n",
    "\n",
    "# Group by continent and calculate mean CFR(%)\n",
    "continent_cfr_percent = worldometer_data_cleaned.groupby(\"Continent\")[\"CFR(%)\"].mean().sort_values(ascending=False)\n",
    "\n",
    "# Plot CFR(%) by continent\n",
    "plt.figure(figsize=(10, 6))\n",
    "sns.barplot(x=continent_cfr_percent.index, y=continent_cfr_percent.values, palette=\"magma\")\n",
    "plt.title(\"Average Case Fatality Rate (CFR %) by Continent\", fontsize=16)\n",
    "plt.xlabel(\"Continent\", fontsize=14)\n",
    "plt.ylabel(\"Average CFR (%)\", fontsize=14)\n",
    "plt.xticks(rotation=45)\n",
    "plt.grid(axis=\"y\", linestyle=\"--\", alpha=0.7)\n",
    "plt.show()\n"
   ]
  },
  {
   "cell_type": "markdown",
   "id": "56113f92",
   "metadata": {},
   "source": [
    "### Insight\n",
    "\n",
    "**Europe and North America: Higher CFRs may be due to older populations, high comorbidities, or initial healthcare system overload during pandemic peaks.**\n",
    "\n",
    "**Africa: Lower CFR may reflect under-reporting of deaths and cases or younger demographics.**\n",
    "\n",
    "**Asia & Australia/Oceania: Moderate CFRs suggest effective healthcare systems but varied outcomes across countries.**\n",
    "\n",
    "\n",
    "### Business Question\n",
    "Which continent has the highest average Case Fatality Rate (CFR %) and what does this indicate about healthcare performance and pandemic management?\n",
    "\n",
    "### Ans:\n",
    "According to the chart, Europe has the highest average CFR (~4.5%), followed by North America (~3.9%) and South America (~2.9%). Africa has the lowest average CFR (~2%).\n",
    "\n",
    "High CFR indicates that a greater proportion of confirmed COVID-19 cases result in death, which may reflect healthcare system strain, delays in case detection, or demographic factors such as older populations. Lower CFR suggests better case management or differences in reporting.\n",
    "\n",
    "### Recommendation\n",
    "\n",
    "For continents with high CFR, strengthen early case detection and hospital capacity, and ensure rapid access to care for severe cases.\n",
    "\n",
    "Standardize data reporting and case definitions to ensure CFR comparisons are accurate.\n",
    "\n",
    "Share successful pandemic response strategies from low CFR regions globally, focusing on testing, early intervention, and healthcare capacity."
   ]
  },
  {
   "cell_type": "markdown",
   "id": "f68f79f1",
   "metadata": {},
   "source": [
    "###  Segmented / Grouped Analysis  \n",
    "###  World Heatmap — Case Fatality Rate (CFR)\n",
    "\n",
    "We will calculate CFR (%) for each country and visualize it globally using a choropleth map.\n"
   ]
  },
  {
   "cell_type": "code",
   "execution_count": 66,
   "id": "bb0c71a4",
   "metadata": {},
   "outputs": [
    {
     "name": "stderr",
     "output_type": "stream",
     "text": [
      "C:\\Users\\QaiatY store\\AppData\\Local\\Temp\\ipykernel_6844\\1620581103.py:5: DeprecationWarning:\n",
      "\n",
      "The library used by the *country names* `locationmode` option is changing in an upcoming version. Country names in existing plots may not work in the new version. To ensure consistent behavior, consider setting `locationmode` to *ISO-3*.\n",
      "\n"
     ]
    },
    {
     "data": {
      "application/vnd.plotly.v1+json": {
       "config": {
        "plotlyServerURL": "https://plot.ly"
       },
       "data": [
        {
         "coloraxis": "coloraxis",
         "geo": "geo",
         "hovertemplate": "<b>%{hovertext}</b><br><br>Country/Region=%{location}<br>CFR (%)=%{z}<extra></extra>",
         "hovertext": [
          "USA",
          "Brazil",
          "India",
          "Russia",
          "South Africa",
          "Mexico",
          "Peru",
          "Chile",
          "Colombia",
          "Iran",
          "Saudi Arabia",
          "Pakistan",
          "Bangladesh",
          "Italy",
          "Turkey",
          "Argentina",
          "Germany",
          "France",
          "Iraq",
          "Philippines",
          "Indonesia",
          "Canada",
          "Qatar",
          "Kazakhstan",
          "Egypt",
          "Ecuador",
          "Bolivia",
          "Oman",
          "Israel",
          "Ukraine",
          "Dominican Republic",
          "Panama",
          "Belgium",
          "Kuwait",
          "Belarus",
          "UAE",
          "Romania",
          "Singapore",
          "Guatemala",
          "Portugal",
          "Poland",
          "Nigeria",
          "Honduras",
          "Bahrain",
          "Japan",
          "Armenia",
          "Ghana",
          "Kyrgyzstan",
          "Afghanistan",
          "Switzerland",
          "Azerbaijan",
          "Morocco",
          "Uzbekistan",
          "Serbia",
          "Moldova",
          "Ireland",
          "Kenya",
          "Venezuela",
          "Nepal",
          "Austria",
          "Costa Rica",
          "Ethiopia",
          "Australia",
          "El Salvador",
          "Czechia",
          "Cameroon",
          "Ivory Coast",
          "S. Korea",
          "Denmark",
          "Palestine",
          "Bosnia and Herzegovina",
          "Bulgaria",
          "Madagascar",
          "Sudan",
          "North Macedonia",
          "Senegal",
          "Norway",
          "Malaysia",
          "French Guiana",
          "Gabon",
          "Guinea",
          "Haiti",
          "Finland",
          "Zambia",
          "Luxembourg",
          "Mauritania",
          "Paraguay",
          "Albania",
          "Lebanon",
          "Croatia",
          "Djibouti",
          "Greece",
          "Libya",
          "Equatorial Guinea",
          "Maldives",
          "CAR",
          "Hungary",
          "Malawi",
          "Zimbabwe",
          "Hong Kong",
          "Montenegro",
          "Thailand",
          "Mayotte",
          "Eswatini",
          "Sri Lanka",
          "Cuba",
          "Cabo Verde",
          "Namibia",
          "Mali",
          "Slovakia",
          "South Sudan",
          "Slovenia",
          "Lithuania",
          "Estonia",
          "Mozambique",
          "Rwanda",
          "Suriname",
          "Guinea-Bissau",
          "Benin",
          "Iceland",
          "Yemen",
          "Tunisia",
          "New Zealand",
          "Angola",
          "Uruguay",
          "Latvia",
          "Jordan",
          "Uganda",
          "Cyprus",
          "Georgia",
          "Niger",
          "Togo",
          "Jamaica",
          "Malta",
          "Andorra",
          "Gambia",
          "Sao Tome and Principe",
          "Botswana",
          "Bahamas",
          "Vietnam",
          "Lesotho",
          "San Marino",
          "Réunion",
          "Channel Islands",
          "Guyana",
          "Taiwan",
          "Burundi",
          "Myanmar",
          "Mauritius",
          "Isle of Man",
          "Guadeloupe",
          "Martinique",
          "Aruba",
          "Trinidad and Tobago",
          "Cayman Islands",
          "Papua New Guinea",
          "Sint Maarten",
          "Bermuda",
          "Brunei ",
          "Barbados",
          "Turks and Caicos",
          "Monaco",
          "Antigua and Barbuda",
          "Liechtenstein",
          "Belize",
          "Saint Martin",
          "Curaçao",
          "Fiji",
          "Montserrat"
         ],
         "locationmode": "country names",
         "locations": [
          "USA",
          "Brazil",
          "India",
          "Russia",
          "South Africa",
          "Mexico",
          "Peru",
          "Chile",
          "Colombia",
          "Iran",
          "Saudi Arabia",
          "Pakistan",
          "Bangladesh",
          "Italy",
          "Turkey",
          "Argentina",
          "Germany",
          "France",
          "Iraq",
          "Philippines",
          "Indonesia",
          "Canada",
          "Qatar",
          "Kazakhstan",
          "Egypt",
          "Ecuador",
          "Bolivia",
          "Oman",
          "Israel",
          "Ukraine",
          "Dominican Republic",
          "Panama",
          "Belgium",
          "Kuwait",
          "Belarus",
          "UAE",
          "Romania",
          "Singapore",
          "Guatemala",
          "Portugal",
          "Poland",
          "Nigeria",
          "Honduras",
          "Bahrain",
          "Japan",
          "Armenia",
          "Ghana",
          "Kyrgyzstan",
          "Afghanistan",
          "Switzerland",
          "Azerbaijan",
          "Morocco",
          "Uzbekistan",
          "Serbia",
          "Moldova",
          "Ireland",
          "Kenya",
          "Venezuela",
          "Nepal",
          "Austria",
          "Costa Rica",
          "Ethiopia",
          "Australia",
          "El Salvador",
          "Czechia",
          "Cameroon",
          "Ivory Coast",
          "S. Korea",
          "Denmark",
          "Palestine",
          "Bosnia and Herzegovina",
          "Bulgaria",
          "Madagascar",
          "Sudan",
          "North Macedonia",
          "Senegal",
          "Norway",
          "Malaysia",
          "French Guiana",
          "Gabon",
          "Guinea",
          "Haiti",
          "Finland",
          "Zambia",
          "Luxembourg",
          "Mauritania",
          "Paraguay",
          "Albania",
          "Lebanon",
          "Croatia",
          "Djibouti",
          "Greece",
          "Libya",
          "Equatorial Guinea",
          "Maldives",
          "CAR",
          "Hungary",
          "Malawi",
          "Zimbabwe",
          "Hong Kong",
          "Montenegro",
          "Thailand",
          "Mayotte",
          "Eswatini",
          "Sri Lanka",
          "Cuba",
          "Cabo Verde",
          "Namibia",
          "Mali",
          "Slovakia",
          "South Sudan",
          "Slovenia",
          "Lithuania",
          "Estonia",
          "Mozambique",
          "Rwanda",
          "Suriname",
          "Guinea-Bissau",
          "Benin",
          "Iceland",
          "Yemen",
          "Tunisia",
          "New Zealand",
          "Angola",
          "Uruguay",
          "Latvia",
          "Jordan",
          "Uganda",
          "Cyprus",
          "Georgia",
          "Niger",
          "Togo",
          "Jamaica",
          "Malta",
          "Andorra",
          "Gambia",
          "Sao Tome and Principe",
          "Botswana",
          "Bahamas",
          "Vietnam",
          "Lesotho",
          "San Marino",
          "Réunion",
          "Channel Islands",
          "Guyana",
          "Taiwan",
          "Burundi",
          "Myanmar",
          "Mauritius",
          "Isle of Man",
          "Guadeloupe",
          "Martinique",
          "Aruba",
          "Trinidad and Tobago",
          "Cayman Islands",
          "Papua New Guinea",
          "Sint Maarten",
          "Bermuda",
          "Brunei ",
          "Barbados",
          "Turks and Caicos",
          "Monaco",
          "Antigua and Barbuda",
          "Liechtenstein",
          "Belize",
          "Saint Martin",
          "Curaçao",
          "Fiji",
          "Montserrat"
         ],
         "name": "",
         "type": "choropleth",
         "z": {
          "bdata": "7N55OM/hCUCKBCzPXwwLQGHAZP89cgBARnY6VKLN+j+1wzygZI38P0+Dp2wS1iVAJikQ42TwEUDpoXUGZJMFQErbfQpyswpAg0Qbszd2FkBFy1e/lDLxPwomM9z+IAFAfByFWh8w9T/2VGzUUD0sQJJbWq+ojANA2X4GtlvO/T9avMbtOzIRQGjFlk4X/S5An7c9VW1dDUBFnLoG18v8P7Xf4qa5mBJAGGshK9k/HkC6F71Df1PEP5oRyr3cpPE/bJso31HYFEDnVZsoD/cZQAqVIeGSCRBAuAHLI5OB4z8Ws6gs7yrnP58xO1Qp8gJAWHfsZUEM+j+RHbQMpKEBQL3VNXLNtStA7UegJR1t5T+m/v76/BfrP4Xz6igXUeI/DCvfloi6EUAQ3wPF7VapP/TCCfhdMg9ANVmK7bHICkDAiIo/eqkMQDQ31xW1cQBAFA6IcCg+CUAKJ9ShWEfXP0VKnZfWawNA/CVEyDYF/z/f8Z1HUxDgP2EZWFih8Q1APHN5XdskDEAOz2mPVf0VQHn9t3c8Dfc/+mdKkvc7+D8AGUlxCsfjP7b2d94uLQJA29GvJEbgCEDkTape+tAaQBguj/HyJvo/5OhmtLr76z/jBTIpXiDTP1QwQEkFgwpAmIesHPxf7j+h7d4qTfH7PzRIgzRIg/Q/dlHn7St1BUAYFVkip5gBQC7O81GEpwFAeVg040UK5D+m1a1rA7IAQHEF6H1iQBFAhIxpojL55T9+gVrgpe4GQAuNvQqNvQpApxyVQMwd8T/cKCqbh+gZQDTJN1RWJBJA7in/WEmmAEDFHIo9eaEFQPWyL1r4IPY/9jkwO5eB4j/XmEXxP/XkPxBesAqUdeQ/yVV8qjQiAkARU2eYDZQRQI7jOI7jOAZAjf4nT1Xr+j90T6Qisn0DQJGQkJCQkPA/AAAAAAAACUAADSzOAb/zP6NOF9Mq8gZA3Sc5pQi28T9T1XFeimUQQLC6RoRpiwFANtZGotCL+z+7n/u5n/vZP0q7EZDSbvQ/WpJMfZ4aKkBw++9qhGcIQEhdoauR+f4/sXdMDewd8z8aYbmnEZb7P+O9rZYs3vs/NEiDNEiD9D8rtijnS6b9P2nvB5gmzNg/6ZWx/Y5eCUDoGw3WH5rvP/J7GfJ7GeI/geFZcIxvE0C21lprrbXyP60PjfWhsf4/4GemFfx9FkARUlhJFtkNQGQrgoaTugdAg/FW9jmk5j+ZZs4mQFHOP4sTUvIsI/Y/USgUCoVC9T9/5DRfq2f/P3Cs/kCPlOA/9qe79qe7PEDi36rsBdkIQHggGaZGb/Y/UJC0fiZDEUC89I4wUXUGQBQUFBQUFARAJEmSJEmS7D9e29hsSCraP4qpxFRiKvk/GrmkNMyN9j/wym6NA/AXQBaykIUsZAFAjQgQXrAK9D/LMURSqHHuP5O6L4+tCBZAYRsEpzJh+z+/D0PbuFX7P2EUcGg+188/oSBXJVlv/T/1X7gyRGv1P4/Lg3s/zAhAUUbAKcoIGEDlWIloUtjnP4OTCDykfR9A88XwT1xbEEBrDZPG5nr3P2ggKh3ZM9A/mwjkmgjk+j/QF/QFfUEHQCRJkiRJkhxAaEnQ61kSFECc3vSmN70VQEaI7Es+QPI/n+d5nud5DkBDAR2b74bfPwjJgHqmcv0/AAAAAAAAJEDte0ROEO4WQMTkCmJyBQFA11BeQ3kNFUA05ow5Y874P5qZmZmZmQlAIQtZyEIWCkAg/ehHP/rxP6esKWvKmgJAg/FW9jmkFkDOOeecc84JQBLaS2gvoQ1AT+zETuzEHkA=",
          "dtype": "f8"
         }
        }
       ],
       "layout": {
        "coloraxis": {
         "colorbar": {
          "title": {
           "text": "CFR (%)"
          }
         },
         "colorscale": [
          [
           0,
           "rgb(255,245,240)"
          ],
          [
           0.125,
           "rgb(254,224,210)"
          ],
          [
           0.25,
           "rgb(252,187,161)"
          ],
          [
           0.375,
           "rgb(252,146,114)"
          ],
          [
           0.5,
           "rgb(251,106,74)"
          ],
          [
           0.625,
           "rgb(239,59,44)"
          ],
          [
           0.75,
           "rgb(203,24,29)"
          ],
          [
           0.875,
           "rgb(165,15,21)"
          ],
          [
           1,
           "rgb(103,0,13)"
          ]
         ]
        },
        "geo": {
         "center": {},
         "domain": {
          "x": [
           0,
           1
          ],
          "y": [
           0,
           1
          ]
         },
         "showcoastlines": true,
         "showframe": false
        },
        "legend": {
         "tracegroupgap": 0
        },
        "template": {
         "data": {
          "bar": [
           {
            "error_x": {
             "color": "#2a3f5f"
            },
            "error_y": {
             "color": "#2a3f5f"
            },
            "marker": {
             "line": {
              "color": "#E5ECF6",
              "width": 0.5
             },
             "pattern": {
              "fillmode": "overlay",
              "size": 10,
              "solidity": 0.2
             }
            },
            "type": "bar"
           }
          ],
          "barpolar": [
           {
            "marker": {
             "line": {
              "color": "#E5ECF6",
              "width": 0.5
             },
             "pattern": {
              "fillmode": "overlay",
              "size": 10,
              "solidity": 0.2
             }
            },
            "type": "barpolar"
           }
          ],
          "carpet": [
           {
            "aaxis": {
             "endlinecolor": "#2a3f5f",
             "gridcolor": "white",
             "linecolor": "white",
             "minorgridcolor": "white",
             "startlinecolor": "#2a3f5f"
            },
            "baxis": {
             "endlinecolor": "#2a3f5f",
             "gridcolor": "white",
             "linecolor": "white",
             "minorgridcolor": "white",
             "startlinecolor": "#2a3f5f"
            },
            "type": "carpet"
           }
          ],
          "choropleth": [
           {
            "colorbar": {
             "outlinewidth": 0,
             "ticks": ""
            },
            "type": "choropleth"
           }
          ],
          "contour": [
           {
            "colorbar": {
             "outlinewidth": 0,
             "ticks": ""
            },
            "colorscale": [
             [
              0,
              "#0d0887"
             ],
             [
              0.1111111111111111,
              "#46039f"
             ],
             [
              0.2222222222222222,
              "#7201a8"
             ],
             [
              0.3333333333333333,
              "#9c179e"
             ],
             [
              0.4444444444444444,
              "#bd3786"
             ],
             [
              0.5555555555555556,
              "#d8576b"
             ],
             [
              0.6666666666666666,
              "#ed7953"
             ],
             [
              0.7777777777777778,
              "#fb9f3a"
             ],
             [
              0.8888888888888888,
              "#fdca26"
             ],
             [
              1,
              "#f0f921"
             ]
            ],
            "type": "contour"
           }
          ],
          "contourcarpet": [
           {
            "colorbar": {
             "outlinewidth": 0,
             "ticks": ""
            },
            "type": "contourcarpet"
           }
          ],
          "heatmap": [
           {
            "colorbar": {
             "outlinewidth": 0,
             "ticks": ""
            },
            "colorscale": [
             [
              0,
              "#0d0887"
             ],
             [
              0.1111111111111111,
              "#46039f"
             ],
             [
              0.2222222222222222,
              "#7201a8"
             ],
             [
              0.3333333333333333,
              "#9c179e"
             ],
             [
              0.4444444444444444,
              "#bd3786"
             ],
             [
              0.5555555555555556,
              "#d8576b"
             ],
             [
              0.6666666666666666,
              "#ed7953"
             ],
             [
              0.7777777777777778,
              "#fb9f3a"
             ],
             [
              0.8888888888888888,
              "#fdca26"
             ],
             [
              1,
              "#f0f921"
             ]
            ],
            "type": "heatmap"
           }
          ],
          "histogram": [
           {
            "marker": {
             "pattern": {
              "fillmode": "overlay",
              "size": 10,
              "solidity": 0.2
             }
            },
            "type": "histogram"
           }
          ],
          "histogram2d": [
           {
            "colorbar": {
             "outlinewidth": 0,
             "ticks": ""
            },
            "colorscale": [
             [
              0,
              "#0d0887"
             ],
             [
              0.1111111111111111,
              "#46039f"
             ],
             [
              0.2222222222222222,
              "#7201a8"
             ],
             [
              0.3333333333333333,
              "#9c179e"
             ],
             [
              0.4444444444444444,
              "#bd3786"
             ],
             [
              0.5555555555555556,
              "#d8576b"
             ],
             [
              0.6666666666666666,
              "#ed7953"
             ],
             [
              0.7777777777777778,
              "#fb9f3a"
             ],
             [
              0.8888888888888888,
              "#fdca26"
             ],
             [
              1,
              "#f0f921"
             ]
            ],
            "type": "histogram2d"
           }
          ],
          "histogram2dcontour": [
           {
            "colorbar": {
             "outlinewidth": 0,
             "ticks": ""
            },
            "colorscale": [
             [
              0,
              "#0d0887"
             ],
             [
              0.1111111111111111,
              "#46039f"
             ],
             [
              0.2222222222222222,
              "#7201a8"
             ],
             [
              0.3333333333333333,
              "#9c179e"
             ],
             [
              0.4444444444444444,
              "#bd3786"
             ],
             [
              0.5555555555555556,
              "#d8576b"
             ],
             [
              0.6666666666666666,
              "#ed7953"
             ],
             [
              0.7777777777777778,
              "#fb9f3a"
             ],
             [
              0.8888888888888888,
              "#fdca26"
             ],
             [
              1,
              "#f0f921"
             ]
            ],
            "type": "histogram2dcontour"
           }
          ],
          "mesh3d": [
           {
            "colorbar": {
             "outlinewidth": 0,
             "ticks": ""
            },
            "type": "mesh3d"
           }
          ],
          "parcoords": [
           {
            "line": {
             "colorbar": {
              "outlinewidth": 0,
              "ticks": ""
             }
            },
            "type": "parcoords"
           }
          ],
          "pie": [
           {
            "automargin": true,
            "type": "pie"
           }
          ],
          "scatter": [
           {
            "fillpattern": {
             "fillmode": "overlay",
             "size": 10,
             "solidity": 0.2
            },
            "type": "scatter"
           }
          ],
          "scatter3d": [
           {
            "line": {
             "colorbar": {
              "outlinewidth": 0,
              "ticks": ""
             }
            },
            "marker": {
             "colorbar": {
              "outlinewidth": 0,
              "ticks": ""
             }
            },
            "type": "scatter3d"
           }
          ],
          "scattercarpet": [
           {
            "marker": {
             "colorbar": {
              "outlinewidth": 0,
              "ticks": ""
             }
            },
            "type": "scattercarpet"
           }
          ],
          "scattergeo": [
           {
            "marker": {
             "colorbar": {
              "outlinewidth": 0,
              "ticks": ""
             }
            },
            "type": "scattergeo"
           }
          ],
          "scattergl": [
           {
            "marker": {
             "colorbar": {
              "outlinewidth": 0,
              "ticks": ""
             }
            },
            "type": "scattergl"
           }
          ],
          "scattermap": [
           {
            "marker": {
             "colorbar": {
              "outlinewidth": 0,
              "ticks": ""
             }
            },
            "type": "scattermap"
           }
          ],
          "scattermapbox": [
           {
            "marker": {
             "colorbar": {
              "outlinewidth": 0,
              "ticks": ""
             }
            },
            "type": "scattermapbox"
           }
          ],
          "scatterpolar": [
           {
            "marker": {
             "colorbar": {
              "outlinewidth": 0,
              "ticks": ""
             }
            },
            "type": "scatterpolar"
           }
          ],
          "scatterpolargl": [
           {
            "marker": {
             "colorbar": {
              "outlinewidth": 0,
              "ticks": ""
             }
            },
            "type": "scatterpolargl"
           }
          ],
          "scatterternary": [
           {
            "marker": {
             "colorbar": {
              "outlinewidth": 0,
              "ticks": ""
             }
            },
            "type": "scatterternary"
           }
          ],
          "surface": [
           {
            "colorbar": {
             "outlinewidth": 0,
             "ticks": ""
            },
            "colorscale": [
             [
              0,
              "#0d0887"
             ],
             [
              0.1111111111111111,
              "#46039f"
             ],
             [
              0.2222222222222222,
              "#7201a8"
             ],
             [
              0.3333333333333333,
              "#9c179e"
             ],
             [
              0.4444444444444444,
              "#bd3786"
             ],
             [
              0.5555555555555556,
              "#d8576b"
             ],
             [
              0.6666666666666666,
              "#ed7953"
             ],
             [
              0.7777777777777778,
              "#fb9f3a"
             ],
             [
              0.8888888888888888,
              "#fdca26"
             ],
             [
              1,
              "#f0f921"
             ]
            ],
            "type": "surface"
           }
          ],
          "table": [
           {
            "cells": {
             "fill": {
              "color": "#EBF0F8"
             },
             "line": {
              "color": "white"
             }
            },
            "header": {
             "fill": {
              "color": "#C8D4E3"
             },
             "line": {
              "color": "white"
             }
            },
            "type": "table"
           }
          ]
         },
         "layout": {
          "annotationdefaults": {
           "arrowcolor": "#2a3f5f",
           "arrowhead": 0,
           "arrowwidth": 1
          },
          "autotypenumbers": "strict",
          "coloraxis": {
           "colorbar": {
            "outlinewidth": 0,
            "ticks": ""
           }
          },
          "colorscale": {
           "diverging": [
            [
             0,
             "#8e0152"
            ],
            [
             0.1,
             "#c51b7d"
            ],
            [
             0.2,
             "#de77ae"
            ],
            [
             0.3,
             "#f1b6da"
            ],
            [
             0.4,
             "#fde0ef"
            ],
            [
             0.5,
             "#f7f7f7"
            ],
            [
             0.6,
             "#e6f5d0"
            ],
            [
             0.7,
             "#b8e186"
            ],
            [
             0.8,
             "#7fbc41"
            ],
            [
             0.9,
             "#4d9221"
            ],
            [
             1,
             "#276419"
            ]
           ],
           "sequential": [
            [
             0,
             "#0d0887"
            ],
            [
             0.1111111111111111,
             "#46039f"
            ],
            [
             0.2222222222222222,
             "#7201a8"
            ],
            [
             0.3333333333333333,
             "#9c179e"
            ],
            [
             0.4444444444444444,
             "#bd3786"
            ],
            [
             0.5555555555555556,
             "#d8576b"
            ],
            [
             0.6666666666666666,
             "#ed7953"
            ],
            [
             0.7777777777777778,
             "#fb9f3a"
            ],
            [
             0.8888888888888888,
             "#fdca26"
            ],
            [
             1,
             "#f0f921"
            ]
           ],
           "sequentialminus": [
            [
             0,
             "#0d0887"
            ],
            [
             0.1111111111111111,
             "#46039f"
            ],
            [
             0.2222222222222222,
             "#7201a8"
            ],
            [
             0.3333333333333333,
             "#9c179e"
            ],
            [
             0.4444444444444444,
             "#bd3786"
            ],
            [
             0.5555555555555556,
             "#d8576b"
            ],
            [
             0.6666666666666666,
             "#ed7953"
            ],
            [
             0.7777777777777778,
             "#fb9f3a"
            ],
            [
             0.8888888888888888,
             "#fdca26"
            ],
            [
             1,
             "#f0f921"
            ]
           ]
          },
          "colorway": [
           "#636efa",
           "#EF553B",
           "#00cc96",
           "#ab63fa",
           "#FFA15A",
           "#19d3f3",
           "#FF6692",
           "#B6E880",
           "#FF97FF",
           "#FECB52"
          ],
          "font": {
           "color": "#2a3f5f"
          },
          "geo": {
           "bgcolor": "white",
           "lakecolor": "white",
           "landcolor": "#E5ECF6",
           "showlakes": true,
           "showland": true,
           "subunitcolor": "white"
          },
          "hoverlabel": {
           "align": "left"
          },
          "hovermode": "closest",
          "mapbox": {
           "style": "light"
          },
          "paper_bgcolor": "white",
          "plot_bgcolor": "#E5ECF6",
          "polar": {
           "angularaxis": {
            "gridcolor": "white",
            "linecolor": "white",
            "ticks": ""
           },
           "bgcolor": "#E5ECF6",
           "radialaxis": {
            "gridcolor": "white",
            "linecolor": "white",
            "ticks": ""
           }
          },
          "scene": {
           "xaxis": {
            "backgroundcolor": "#E5ECF6",
            "gridcolor": "white",
            "gridwidth": 2,
            "linecolor": "white",
            "showbackground": true,
            "ticks": "",
            "zerolinecolor": "white"
           },
           "yaxis": {
            "backgroundcolor": "#E5ECF6",
            "gridcolor": "white",
            "gridwidth": 2,
            "linecolor": "white",
            "showbackground": true,
            "ticks": "",
            "zerolinecolor": "white"
           },
           "zaxis": {
            "backgroundcolor": "#E5ECF6",
            "gridcolor": "white",
            "gridwidth": 2,
            "linecolor": "white",
            "showbackground": true,
            "ticks": "",
            "zerolinecolor": "white"
           }
          },
          "shapedefaults": {
           "line": {
            "color": "#2a3f5f"
           }
          },
          "ternary": {
           "aaxis": {
            "gridcolor": "white",
            "linecolor": "white",
            "ticks": ""
           },
           "baxis": {
            "gridcolor": "white",
            "linecolor": "white",
            "ticks": ""
           },
           "bgcolor": "#E5ECF6",
           "caxis": {
            "gridcolor": "white",
            "linecolor": "white",
            "ticks": ""
           }
          },
          "title": {
           "x": 0.05
          },
          "xaxis": {
           "automargin": true,
           "gridcolor": "white",
           "linecolor": "white",
           "ticks": "",
           "title": {
            "standoff": 15
           },
           "zerolinecolor": "white",
           "zerolinewidth": 2
          },
          "yaxis": {
           "automargin": true,
           "gridcolor": "white",
           "linecolor": "white",
           "ticks": "",
           "title": {
            "standoff": 15
           },
           "zerolinecolor": "white",
           "zerolinewidth": 2
          }
         }
        },
        "title": {
         "text": "Global Case Fatality Rate (CFR %)"
        }
       }
      }
     },
     "metadata": {},
     "output_type": "display_data"
    }
   ],
   "source": [
    "# Calculate CFR (%) for each country\n",
    "worldometer_data_cleaned[\"CFR(%)\"] = (worldometer_data_cleaned[\"TotalDeaths\"] / worldometer_data_cleaned[\"TotalCases\"]) * 100\n",
    "\n",
    "# Choropleth map\n",
    "fig = px.choropleth(worldometer_data_cleaned,\n",
    "                    locations=\"Country/Region\",\n",
    "                    locationmode=\"country names\",\n",
    "                    color=\"CFR(%)\",\n",
    "                    hover_name=\"Country/Region\",\n",
    "                    color_continuous_scale=\"Reds\",\n",
    "                    title=\"Global Case Fatality Rate (CFR %)\",\n",
    "                    labels={\"CFR(%)\": \"CFR (%)\"})\n",
    "fig.update_layout(geo=dict(showframe=False, showcoastlines=True))\n",
    "fig.show()"
   ]
  },
  {
   "cell_type": "markdown",
   "id": "23b2ecec",
   "metadata": {},
   "source": [
    "###  Testing Effectiveness by Continent\n",
    "We analyze whether higher testing rates correlate with better control of cases."
   ]
  },
  {
   "cell_type": "code",
   "execution_count": 67,
   "id": "63495082",
   "metadata": {},
   "outputs": [
    {
     "data": {
      "image/png": "[encoded data removed]",
      "text/plain": [
       "<Figure size 1200x800 with 1 Axes>"
      ]
     },
     "metadata": {},
     "output_type": "display_data"
    }
   ],
   "source": [
    "plt.figure(figsize=(12, 8))\n",
    "sns.scatterplot(data=worldometer_data_cleaned, x=\"TotalTests\", y=\"TotalCases\", hue=\"Continent\", alpha=0.7)\n",
    "sns.regplot(data=worldometer_data_cleaned, x=\"TotalTests\", y=\"TotalCases\", scatter=False, color=\"black\")\n",
    "plt.title(\"Total Tests vs. Total Cases by Continent\", fontsize=16)\n",
    "plt.xlabel(\"Total Tests\")\n",
    "plt.ylabel(\"Total Cases\")\n",
    "plt.xscale('log')\n",
    "plt.yscale('log')\n",
    "plt.grid(True, which=\"both\", linestyle=\"--\")\n",
    "plt.show()"
   ]
  },
  {
   "cell_type": "markdown",
   "id": "f1febce3",
   "metadata": {},
   "source": [
    "### Insight\n",
    "\n",
    "**Testing correlates with case detection, especially in Europe and North America. Low testing rates in Africa hinder outbreak detection.**\n",
    "\n",
    "\n",
    "\n",
    "### Business Question\n",
    "How effective was testing in controlling spread across continents?\n",
    "\n",
    "### Ans:\n",
    "Observation: In continents like Europe and North America, higher testing correlates with higher detected cases (positive correlation).\n",
    "\n",
    "Interpretation: This suggests testing uncovers cases rather than preventing them directly. However, early and widespread testing helps control spread later by isolating cases sooner.\n",
    "\n",
    "Contrast: In Africa, testing rates are lower, so case detection is low, meaning spread control is less effective due to under-testing.\n",
    "\n",
    "### Recommendation\n",
    "\n",
    "- Expand testing in under-tested regions, paired with contact tracing.  \n",
    "- Use testing strategically to detect outbreaks early."
   ]
  },
  {
   "cell_type": "markdown",
   "id": "addc94a7",
   "metadata": {},
   "source": [
    "###  Trends in New Cases & Deaths Over Time\n",
    "We observe global trends to identify peaks and declines in the pandemic."
   ]
  },
  {
   "cell_type": "code",
   "execution_count": 68,
   "id": "102ab518",
   "metadata": {},
   "outputs": [
    {
     "name": "stderr",
     "output_type": "stream",
     "text": [
      "C:\\Users\\QaiatY store\\AppData\\Local\\Temp\\ipykernel_6844\\3322608980.py:2: SettingWithCopyWarning:\n",
      "\n",
      "\n",
      "A value is trying to be set on a copy of a slice from a DataFrame.\n",
      "Try using .loc[row_indexer,col_indexer] = value instead\n",
      "\n",
      "See the caveats in the documentation: https://pandas.pydata.org/pandas-docs/stable/user_guide/indexing.html#returning-a-view-versus-a-copy\n",
      "\n"
     ]
    },
    {
     "data": {
      "image/png": "[encoded data removed]",
      "text/plain": [
       "<Figure size 1400x700 with 1 Axes>"
      ]
     },
     "metadata": {},
     "output_type": "display_data"
    }
   ],
   "source": [
    "# Convert date\n",
    "full_grouped_cleaned[\"Date\"] = pd.to_datetime(full_grouped_cleaned[\"Date\"])\n",
    "\n",
    "# Aggregate global data by date\n",
    "global_time = full_grouped_cleaned.groupby(\"Date\")[[\"New cases\", \"New deaths\"]].sum().reset_index()\n",
    "\n",
    "# Plot\n",
    "plt.figure(figsize=(14, 7))\n",
    "sns.lineplot(data=global_time, x=\"Date\", y=\"New cases\", label=\"New Cases\")\n",
    "sns.lineplot(data=global_time, x=\"Date\", y=\"New deaths\", label=\"New Deaths\")\n",
    "plt.title(\"Global Trends of New Cases & Deaths Over Time\", fontsize=16)\n",
    "plt.xlabel(\"Date\")\n",
    "plt.ylabel(\"Counts\")\n",
    "plt.legend()\n",
    "plt.grid(True)\n",
    "plt.show()\n"
   ]
  },
  {
   "cell_type": "markdown",
   "id": "5503e2df",
   "metadata": {},
   "source": [
    "\n",
    "\n",
    "### Business Question\n",
    "What trends can be observed in new cases and deaths over time?\n",
    "\n",
    "### Insight & Ans:\n",
    "Trend: Globally, COVID-19 shows waves — peaks of cases followed by declines. Peaks often correspond to variants or reduced control measures.\n",
    "\n",
    "### Recommendation\n",
    "\n",
    "Adapt Public Health Measures – Use real-time data to adjust restrictions, mask mandates, and crowd limits during peak waves.\n",
    "\n",
    "Accelerate Vaccination & Boosters – Ensure timely vaccination campaigns, especially before predicted waves or variant emergence."
   ]
  },
  {
   "cell_type": "markdown",
   "id": "a6a8d994",
   "metadata": {},
   "source": [
    "###  Recovery Rate Comparison by Continent\n",
    "Recovery rate is calculated as:\n",
    "Recovery Rate = (Total Recovered \\ Total Cases )*100\n"
   ]
  },
  {
   "cell_type": "code",
   "execution_count": 69,
   "id": "5cef49a5",
   "metadata": {},
   "outputs": [
    {
     "name": "stderr",
     "output_type": "stream",
     "text": [
      "C:\\Users\\QaiatY store\\AppData\\Local\\Temp\\ipykernel_6844\\3902769472.py:6: FutureWarning:\n",
      "\n",
      "\n",
      "\n",
      "Passing `palette` without assigning `hue` is deprecated and will be removed in v0.14.0. Assign the `x` variable to `hue` and set `legend=False` for the same effect.\n",
      "\n",
      "\n"
     ]
    },
    {
     "data": {
      "image/png": "[encoded data removed]",
      "text/plain": [
       "<Figure size 1000x600 with 1 Axes>"
      ]
     },
     "metadata": {},
     "output_type": "display_data"
    }
   ],
   "source": [
    "worldometer_data_cleaned[\"RecoveryRate(%)\"] = (worldometer_data_cleaned[\"TotalRecovered\"] / worldometer_data_cleaned[\"TotalCases\"]) * 100\n",
    "\n",
    "continent_recovery = worldometer_data_cleaned.groupby(\"Continent\")[\"RecoveryRate(%)\"].mean().sort_values(ascending=False)\n",
    "\n",
    "plt.figure(figsize=(10, 6))\n",
    "sns.barplot(x=continent_recovery.index, y=continent_recovery.values, palette=\"Greens\")\n",
    "plt.title(\"Average Recovery Rate (%) by Continent\", fontsize=16)\n",
    "plt.xlabel(\"Continent\")\n",
    "plt.ylabel(\"Recovery Rate (%)\")\n",
    "plt.xticks(rotation=45)\n",
    "plt.show()\n"
   ]
  },
  {
   "cell_type": "markdown",
   "id": "b3878aab",
   "metadata": {},
   "source": [
    "### Business Question\n",
    "Which continent showed the fastest recovery rate compared to cases?\n",
    "\n",
    "### Insight & Ans:\n",
    "Recovery rate = total recovered / total cases × 100.\n",
    "\n",
    "Highest recovery rate: Asia   above 75%.\n",
    "\n",
    "Lowest recovery rate: Africa & North America (Mexcico) (~60%), likely due to under-reporting and limited healthcare access.\n",
    "\n",
    "### Recommendation\n",
    "Low recovery rate regions should strengthen clinical treatment capacity and healthcare access.\n",
    "\n",
    "Share best practices from high recovery rate continents to improve global response."
   ]
  }
 ],
 "metadata": {
  "kernelspec": {
   "display_name": "Python 3",
   "language": "python",
   "name": "python3"
  },
  "language_info": {
   "codemirror_mode": {
    "name": "ipython",
    "version": 3
   },
   "file_extension": ".py",
   "mimetype": "text/x-python",
   "name": "python",
   "nbconvert_exporter": "python",
   "pygments_lexer": "ipython3",
   "version": "3.13.7"
  }
 },
 "nbformat": 4,
 "nbformat_minor": 5
}
